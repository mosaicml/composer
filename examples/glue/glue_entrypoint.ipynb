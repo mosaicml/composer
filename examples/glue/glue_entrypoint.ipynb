{
 "cells": [
  {
   "cell_type": "markdown",
   "metadata": {},
   "source": [
    "# 🚪 GLUE Script\n",
    "\n",
    "Want to pre-train your NLP model and benchmark it by fine-tuning on [GLUE][GLUE]? We got you covered.\n",
    "\n",
    "Some training workloads are more complex than others—for example, let's say you want to pre-train a language model and evaluate each of your pre-training checkpoints by fine-tuning it on all 8 GLUE tasks. Yeah, that sounds fairly complex, but many NLP researchers will recognize it as a standard chore, which is why we made a script to handle exactly this workload in Composer.\n",
    "\n",
    "### Recommended Background\n",
    "\n",
    "This tutorial assumes that you are already familiar with NLP topics such as pre-training language models and fine-tuning on the GLUE (General Language Understanding Evaluation) benchmark.\n",
    "\n",
    "The script covered in this tutorial uses YAMLs along with Composer's [YAHP][yahp] hyperparameter management tool to customize the training behavior. That usage hasn't been covered in any tutorials yet, so it may be unfamiliar. If so, you'll get the most out of this tutorial if you pause to review the related docs when referenced.\n",
    "\n",
    "### Tutorial Goals and Covered Concepts\n",
    "\n",
    "The goal of this tutorial is to demonstrate how to use the [GLUE (General Language Understanding Evaluation)][GLUE] script for pre-training and fine-tuning NLP models across the 8 GLUE tasks.\n",
    "\n",
    "This will cover:\n",
    "\n",
    "* The basics of the script and what it enables\n",
    "* How to construct your YAML for training\n",
    "* Executing an example fine-tuning job \n",
    "\n",
    "Let's get started!\n",
    "\n",
    "[GLUE]: https://gluebenchmark.com/\n",
    "[yahp]: https://docs.mosaicml.com/projects/yahp/en/stable/examples/simple.html"
   ]
  },
  {
   "cell_type": "markdown",
   "metadata": {},
   "source": [
    "## Setup\n",
    "\n",
    "Let's get started and configure our environment."
   ]
  },
  {
   "cell_type": "markdown",
   "metadata": {},
   "source": [
    "### Install Composer\n",
    "\n",
    "First, install Composer if you haven't already:"
   ]
  },
  {
   "cell_type": "code",
   "execution_count": null,
   "metadata": {},
   "outputs": [],
   "source": [
    "%pip install 'mosaicml[nlp]'\n",
    "# To install from source instead of the last release, comment the command above and uncomment the following one.\n",
    "# %pip install 'mosaicml[nlp] @ git+https://github.com/mosaicml/composer.git'\""
   ]
  },
  {
   "cell_type": "markdown",
   "metadata": {},
   "source": [
    "Next, pull and cd into the Composer Github repository:"
   ]
  },
  {
   "cell_type": "code",
   "execution_count": null,
   "metadata": {},
   "outputs": [],
   "source": [
    "!git clone https://github.com/mosaicml/composer\n",
    "\n",
    "import os\n",
    "os.chdir('composer/')"
   ]
  },
  {
   "cell_type": "markdown",
   "metadata": {},
   "source": [
    "## Basics of the Script\n",
    "\n",
    "This script allows you to specify if you want to pre-train a NLP model, fine-tune a model on the downstream tasks, or run the entire pipeline.\n",
    "\n",
    "If pre-training, the script will handle distributed training across all available GPUs. If fine-tuning, the script will fine-tune all given checkpoints on all 8 GLUE tasks in parallel using multiprocessing pools.\n",
    "\n",
    "This script is designed to make this process more efficient and remove the tediousness of individually spawning jobs and manually loading all the model checkpoints. "
   ]
  },
  {
   "cell_type": "markdown",
   "metadata": {},
   "source": [
    "## Constructing your YAML for training\n",
    "\n",
    "A full out-of-the-box YAML example for this script can be found in `./glue_example.yaml.` If you're already familiar with using YAMLs with Composer, you can skip to the next part! If not, we'll break down how this is structured."
   ]
  },
  {
   "cell_type": "markdown",
   "metadata": {},
   "source": [
    "### Pre-training\n",
    "\n",
    "If you are only pre-training an NLP model from scratch, you just need to specify the `pretrain_hparams` section of the YAML. In this section, you will find your standard hyperparameters for pre-training a model—the model configuration, dataset and dataloader specifications, batch size, etc.\n",
    "\n",
    "For the default configuration, we use identical parameters to `composer/yamls/models/bert-base.yaml` to pre-train a BERT model. See [TrainerHparams documentation][trainer_hparams] for more information about what is included in these parameters.\n",
    "\n",
    "[trainer_hparams]: https://docs.mosaicml.com/en/stable/api_reference/composer.trainer.trainer_hparams.html?highlight=trainerhparams#composer.trainer.trainer_hparams.TrainerHparams\n"
   ]
  },
  {
   "cell_type": "markdown",
   "metadata": {},
   "source": [
    "    pretrain_hparams:\n",
    "      # Use a bert-base model, initialized from scratch\n",
    "      model:\n",
    "        bert:\n",
    "          use_pretrained: false\n",
    "          tokenizer_name: bert-base-uncased\n",
    "          pretrained_model_name: bert-base-uncased\n",
    "\n",
    "      # Train the model on the English C4 corpus\n",
    "      train_dataset:\n",
    "        streaming_c4:\n",
    "          remote: s3://allenai-c4/mds/1/\n",
    "          local: /tmp/mds-cache/mds-c4/\n",
    "          split: train\n",
    "          shuffle: true\n",
    "          tokenizer_name: bert-base-uncased\n",
    "          max_seq_len: 128\n",
    "          group_method: truncate\n",
    "          mlm: true\n",
    "          mlm_probability: 0.15\n",
    "\n",
    "      dataloader:\n",
    "        pin_memory: true\n",
    "        timeout: 0\n",
    "        prefetch_factor: 2\n",
    "        persistent_workers: true\n",
    "        num_workers: 8\n",
    "\n",
    "      # Periodically evaluate the LanguageCrossEntropy and Masked Accuracy\n",
    "      # on the validation split of the dataset.\n",
    "      evaluators:\n",
    "        evaluator:\n",
    "            label: bert_pre_training\n",
    "            eval_dataset:\n",
    "              streaming_c4:\n",
    "                remote: s3://allenai-c4/mds/1/\n",
    "                local: /tmp/mds-cache/mds-c4/\n",
    "                split: val\n",
    "                shuffle: false\n",
    "                tokenizer_name: bert-base-uncased\n",
    "                max_seq_len: 128\n",
    "                group_method: truncate\n",
    "                mlm: true\n",
    "                mlm_probability: 0.15\n",
    "            metric_names:\n",
    "              - LanguageCrossEntropy\n",
    "              - MaskedAccuracy\n",
    "\n",
    "      # Run evaluation after every 1000 training steps\n",
    "      eval_interval: 1000ba\n",
    "\n",
    "      # Use the decoupled AdamW optimizer with learning rate warmup\n",
    "      optimizers:\n",
    "        decoupled_adamw:\n",
    "          lr: 5.0e-4                     # Peak learning rate\n",
    "          betas:\n",
    "            - 0.9\n",
    "            - 0.98\n",
    "          eps: 1.0e-06\n",
    "          weight_decay: 1.0e-5           # Amount of weight decay regularization\n",
    "      schedulers:\n",
    "        linear_decay_with_warmup:\n",
    "          t_warmup: 0.06dur              # Point when peak learning rate is reached\n",
    "          alpha_f: 0.02\n",
    "\n",
    "      max_duration: 275184000sp          # Subsample the training data for 275M samples\n",
    "      train_batch_size: 4000             # Number of training examples to use per update\n",
    "      eval_batch_size: 2000\n",
    "\n",
    "      precision: amp                     # Use mixed-precision training\n",
    "      grad_clip_norm: -1.0               # Turn off gradient clipping\n",
    "      grad_accum: 'auto'                 # Use automatic gradient accumulation to avoid OOMs\n",
    "\n",
    "      checkpoint_save_path: checkpoints           # The directory to save checkpoints to\n",
    "      checkpoint_save_interval: 3500ba              # Save checkpoints every 3500 batches\n",
    "      save_artifact_name: '{run_name}/checkpoints/ep{epoch}-ba{batch}-rank{rank}' \n",
    "      num_checkpoints_to_keep: 0\n",
    "      save_overwrite: True\n",
    "\n",
    "      loggers:\n",
    "        object_store:\n",
    "          object_store_hparams:         # The bucket to save checkpoints to\n",
    "            s3:\n",
    "              bucket: your-bucket-here"
   ]
  },
  {
   "cell_type": "markdown",
   "metadata": {},
   "source": [
    "### Fine-tuning\n",
    "\n",
    "If you are only fine-tuning checkpoints on the GLUE tasks, you are expected to specify the checkpoints to load from by specifying a `finetune_ckpts` list in the `finetune_hparams` section of your YAML, as shown below. Upon runnning the script with this list, it will automatically pull all checkpoints and fine-tune on all of them. \n",
    "\n",
    "Note that if the `finetune_ckpts` list contains paths in object store, the script expects a `load_object_store` instance, as well as its corresponding credentials to be specified, otherwise it will try to load from local disk. See our [checkpointing guide][checkpoint_guide] if you're not familiar with our checkpoint saving and loading schema. You may also find our [tutorial on training without local storage][local_storage_tutorial] to be helpful.\n",
    "\n",
    "In all logging instances, such as Weights and Biases and in the results table outputted at the end of training, all the fine-tune runs will be grouped by their pre-train checkpoint name for easier organization and run tracking.\n",
    "\n",
    "Below is an example `finetune_hparams` that loads checkpoints from an Amazon S3 bucket:\n",
    "\n",
    "[checkpoint_guide]: https://docs.mosaicml.com/en/stable/trainer/checkpointing.html#resume-training\n",
    "[local_storage_tutorial]: https://docs.mosaicml.com/en/stable/examples/training_without_local_storage.html"
   ]
  },
  {
   "cell_type": "markdown",
   "metadata": {},
   "source": [
    "    finetune_hparams:\n",
    "      ...\n",
    "      finetune_ckpts:\n",
    "        - path/to/checkpoint1\n",
    "        - path/to/checkpoint2\n",
    "\n",
    "      # if paths are in ObjectStore, the following is expected to be defined\n",
    "      load_object_store:\n",
    "        s3:\n",
    "          bucket: your-bucket-here"
   ]
  },
  {
   "cell_type": "markdown",
   "metadata": {},
   "source": [
    "\n",
    "❗ **Note**: The load paths provided in `finetune_ckpts` have to be relative paths within an object store bucket/local directory as Composer does not currently allow checkpoints to be loaded via remote URIs.  Alternatively, you can provide a full https URL to a remote checkpoint as your full path, such as `https://storage.googleapis.com/path/to/checkpoint.pt`."
   ]
  },
  {
   "cell_type": "markdown",
   "metadata": {},
   "source": [
    "### Pre-training and fine-tuning\n",
    "\n",
    "To run the entire end-to-end pipeline, you are expected to provide the script with your pre-train configuration as explained above, as well as any overrides to apply to the fine-tuning jobs.\n",
    "\n",
    "In this case, the script is run in two distinct stages for distributed pre-training and multiprocessed fine-tuning; however, all information transferred between the stages is automatically handled by the script.  Checkpoints are automatically saved to your specified `checkpoint_save_path` and loaded from wherever pre-training saved them, therefore the `finetune_ckpts` section of `finetune_hparams` is ignored if specified."
   ]
  },
  {
   "cell_type": "markdown",
   "metadata": {},
   "source": [
    "❗ **Note**: The script runs all 8 GLUE fine-tuning tasks on **every saved pre-training checkpoint**, so set your [checkpoint_save_interval][checkpoint_save_interval] within your `pretrain_hparams` appropriately to avoid unnecessarily long evaluation times. \n",
    "\n",
    "[checkpoint_save_interval]: https://docs.mosaicml.com/en/stable/trainer/checkpointing.html#save-interval"
   ]
  },
  {
   "cell_type": "markdown",
   "metadata": {},
   "source": [
    "## Executing your job\n",
    "\n",
    "Let's now put together all our knowledge about the script and launch a job that will fine-tune a pre-trained BERT model on the 8 GLUE tasks! Because we are only fine-tuning with no special configurations, we only need to specify our bucket information and the `finetune_ckpts` to load from. The following configuration will load a pre-trained model from our AWS S3 bucket and save any fine-tune checkpoints under a local `checkpoints` folder:"
   ]
  },
  {
   "cell_type": "code",
   "execution_count": null,
   "metadata": {},
   "outputs": [],
   "source": [
    "data = {\n",
    "  'finetune_hparams': {\n",
    "    'load_object_store': {'s3': {'bucket': 'mosaicml-internal-checkpoints-bert'}},\n",
    "    'checkpoint_save_path': 'checkpoints',\n",
    "    'finetune_ckpts': ['bert-baseline-tokenizer-2uoe/checkpoints/ep0-ba68796-rank0']\n",
    "  }\n",
    "}"
   ]
  },
  {
   "cell_type": "markdown",
   "metadata": {},
   "source": [
    "Let's now dump our constructed hparams to a YAML file to be loaded by the script:"
   ]
  },
  {
   "cell_type": "code",
   "execution_count": null,
   "metadata": {},
   "outputs": [],
   "source": [
    "import yaml\n",
    "import tempfile\n",
    "\n",
    "tmp_file = tempfile.NamedTemporaryFile()\n",
    "with open(tmp_file.name, 'w+') as f:\n",
    "    yaml.dump(data, f)"
   ]
  },
  {
   "cell_type": "markdown",
   "metadata": {},
   "source": [
    "Let's launch it! At the end of training, we will see a table containing the GLUE per-task, GLUE-Large, and GLUE-All scores!"
   ]
  },
  {
   "cell_type": "code",
   "execution_count": null,
   "metadata": {},
   "outputs": [],
   "source": [
    "!python examples/glue/run_glue_trainer.py -f {tmp_file.name} --training_scheme finetune"
   ]
  },
  {
   "cell_type": "markdown",
   "metadata": {},
   "source": [
    "💡 Pro-tip: Try `python examples/glue/run_glue_trainer.py --help` to get more information about the script, and `python examples/glue/run_glue_trainer.py {pretrain_hparams, finetune_hparams} --help` to get a detailed breakdown of your hparams options!"
   ]
  },
  {
   "cell_type": "markdown",
   "metadata": {},
   "source": [
    "## Next steps\n",
    "\n",
    "Now you've seen how to use Composer's script for pre-training and fine-tuning on GLUE. Congratulations, this is about as complex as our tutorials get, so if you made it this far it's time to get out there and start using Composer yourself!\n",
    "\n",
    "To get going, try pre-training and fine-tuning your own models with this script. Also, feel free to check out the rest of the [Composer docs][docs].\n",
    "\n",
    "Happy training!\n",
    "\n",
    "[docs]: https://docs.mosaicml.com/\n"
   ]
  },
  {
   "cell_type": "markdown",
   "metadata": {},
   "source": [
    "## Come get involved with MosaicML!\n",
    "\n",
    "We'd love for you to get involved with the MosaicML community in any of these ways:\n",
    "\n",
    "### [Star Composer on GitHub](https://github.com/mosaicml/composer)\n",
    "\n",
    "Help make others aware of our work by [starring Composer on GitHub](https://github.com/mosaicml/composer).\n",
    "\n",
    "### [Join the MosaicML Slack](https://join.slack.com/t/mosaicml-community/shared_invite/zt-w0tiddn9-WGTlRpfjcO9J5jyrMub1dg)\n",
    "\n",
    "Head on over to the [MosaicML slack](https://join.slack.com/t/mosaicml-community/shared_invite/zt-w0tiddn9-WGTlRpfjcO9J5jyrMub1dg) to join other ML efficiency enthusiasts. Come for the paper discussions, stay for the memes!\n",
    "\n",
    "### Contribute to Composer\n",
    "\n",
    "Is there a bug you noticed or a feature you'd like? File an [issue](https://github.com/mosaicml/composer/issues) or make a [pull request](https://github.com/mosaicml/composer/pulls)!"
   ]
  }
 ],
 "metadata": {
  "language_info": {
   "codemirror_mode": {
    "name": "ipython",
    "version": 3
   },
   "file_extension": ".py",
   "mimetype": "text/x-python",
   "name": "python",
   "nbconvert_exporter": "python",
   "pygments_lexer": "ipython3"
  }
 },
 "nbformat": 4,
 "nbformat_minor": 2
}
