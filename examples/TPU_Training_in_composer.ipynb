{
  "cells": [
    {
      "cell_type": "markdown",
      "metadata": {
        "id": "view-in-github",
        "colab_type": "text"
      },
      "source": [
        "<a href=\"https://colab.research.google.com/github/florescl/composer/blob/laura%2Ftpu-perf/TPU_Training_in_composer.ipynb\" target=\"_parent\"><img src=\"https://colab.research.google.com/assets/colab-badge.svg\" alt=\"Open In Colab\"/></a>"
      ]
    },
    {
      "cell_type": "markdown",
      "metadata": {
        "id": "YX1hxqUQn47M"
      },
      "source": [
        "::## TPU Training in composer"
      ]
    },
    {
      "cell_type": "markdown",
      "metadata": {
        "id": "pLQPoJ6Fn8wF"
      },
      "source": [
        "### [RUNME] Install Colab compatible PyTorch/XLA wheels and dependencies\n",
        "\n"
      ]
    },
    {
      "cell_type": "code",
      "execution_count": null,
      "metadata": {
        "id": "OApBOAe1fpH_"
      },
      "outputs": [],
      "source": [
        "!pip install cloud-tpu-client==0.10 torch==1.12.0 https://storage.googleapis.com/tpu-pytorch/wheels/colab/torch_xla-1.12-cp37-cp37m-linux_x86_64.whl"
      ]
    },
    {
      "cell_type": "code",
      "execution_count": 1,
      "metadata": {
        "colab": {
          "base_uri": "https://localhost:8080/",
          "height": 1000
        },
        "id": "_2nL4HmloEyl",
        "outputId": "3bc83598-2425-4754-fa2f-b3f6f13a0800"
      },
      "outputs": [
        {
          "output_type": "stream",
          "name": "stdout",
          "text": [
            "Looking in indexes: https://pypi.org/simple, https://us-python.pkg.dev/colab-wheels/public/simple/\n",
            "Collecting git+https://github.com/florescl/composer.git@laura/tpu-perf\n",
            "  Cloning https://github.com/florescl/composer.git (to revision laura/tpu-perf) to /tmp/pip-req-build-lecamq7r\n",
            "  Running command git clone -q https://github.com/florescl/composer.git /tmp/pip-req-build-lecamq7r\n",
            "  Running command git checkout -b laura/tpu-perf --track origin/laura/tpu-perf\n",
            "  Switched to a new branch 'laura/tpu-perf'\n",
            "  Branch 'laura/tpu-perf' set up to track remote branch 'laura/tpu-perf' from 'origin'.\n",
            "  Installing build dependencies ... \u001b[?25l\u001b[?25hdone\n",
            "  Getting requirements to build wheel ... \u001b[?25l\u001b[?25hdone\n",
            "    Preparing wheel metadata ... \u001b[?25l\u001b[?25hdone\n",
            "Requirement already satisfied: pyyaml<7,>=6.0 in /usr/local/lib/python3.7/dist-packages (from mosaicml==0.8.1) (6.0)\n",
            "Requirement already satisfied: torchmetrics<0.8,>=0.7.0 in /usr/local/lib/python3.7/dist-packages (from mosaicml==0.8.1) (0.7.3)\n",
            "Collecting tabulate==0.8.9\n",
            "  Downloading tabulate-0.8.9-py3-none-any.whl (25 kB)\n",
            "Requirement already satisfied: py-cpuinfo<9,>=8.0.0 in /usr/local/lib/python3.7/dist-packages (from mosaicml==0.8.1) (8.0.0)\n",
            "Requirement already satisfied: requests<3,>=2.26.0 in /usr/local/lib/python3.7/dist-packages (from mosaicml==0.8.1) (2.28.1)\n",
            "Requirement already satisfied: yahp<0.2,>=0.1.3 in /usr/local/lib/python3.7/dist-packages (from mosaicml==0.8.1) (0.1.3)\n",
            "Requirement already satisfied: psutil<6,>=5.8.0 in /usr/local/lib/python3.7/dist-packages (from mosaicml==0.8.1) (5.9.1)\n",
            "Requirement already satisfied: importlib-metadata<5,>=4.11.0 in /usr/local/lib/python3.7/dist-packages (from mosaicml==0.8.1) (4.12.0)\n",
            "Requirement already satisfied: torchvision>=0.10.0 in /usr/local/lib/python3.7/dist-packages (from mosaicml==0.8.1) (0.13.1+cu113)\n",
            "Requirement already satisfied: tqdm<5,>=4.62.3 in /usr/local/lib/python3.7/dist-packages (from mosaicml==0.8.1) (4.64.0)\n",
            "Requirement already satisfied: numpy<1.23.0,>=1.21.5 in /usr/local/lib/python3.7/dist-packages (from mosaicml==0.8.1) (1.21.6)\n",
            "Requirement already satisfied: torch-optimizer<0.2,>=0.1.0 in /usr/local/lib/python3.7/dist-packages (from mosaicml==0.8.1) (0.1.0)\n",
            "Requirement already satisfied: packaging<22,>=21.3.0 in /usr/local/lib/python3.7/dist-packages (from mosaicml==0.8.1) (21.3)\n",
            "Requirement already satisfied: coolname<2,>=1.1.0 in /usr/local/lib/python3.7/dist-packages (from mosaicml==0.8.1) (1.1.0)\n",
            "Requirement already satisfied: torch<2,>=1.10 in /usr/local/lib/python3.7/dist-packages (from mosaicml==0.8.1) (1.12.0)\n",
            "Requirement already satisfied: typing-extensions>=3.6.4 in /usr/local/lib/python3.7/dist-packages (from importlib-metadata<5,>=4.11.0->mosaicml==0.8.1) (4.1.1)\n",
            "Requirement already satisfied: zipp>=0.5 in /usr/local/lib/python3.7/dist-packages (from importlib-metadata<5,>=4.11.0->mosaicml==0.8.1) (3.8.1)\n",
            "Requirement already satisfied: pyparsing!=3.0.5,>=2.0.2 in /usr/local/lib/python3.7/dist-packages (from packaging<22,>=21.3.0->mosaicml==0.8.1) (3.0.9)\n",
            "Requirement already satisfied: certifi>=2017.4.17 in /usr/local/lib/python3.7/dist-packages (from requests<3,>=2.26.0->mosaicml==0.8.1) (2022.6.15)\n",
            "Requirement already satisfied: charset-normalizer<3,>=2 in /usr/local/lib/python3.7/dist-packages (from requests<3,>=2.26.0->mosaicml==0.8.1) (2.1.0)\n",
            "Requirement already satisfied: urllib3<1.27,>=1.21.1 in /usr/local/lib/python3.7/dist-packages (from requests<3,>=2.26.0->mosaicml==0.8.1) (1.24.3)\n",
            "Requirement already satisfied: idna<4,>=2.5 in /usr/local/lib/python3.7/dist-packages (from requests<3,>=2.26.0->mosaicml==0.8.1) (2.10)\n",
            "Requirement already satisfied: pytorch-ranger>=0.1.1 in /usr/local/lib/python3.7/dist-packages (from torch-optimizer<0.2,>=0.1.0->mosaicml==0.8.1) (0.1.1)\n",
            "Requirement already satisfied: pyDeprecate==0.3.* in /usr/local/lib/python3.7/dist-packages (from torchmetrics<0.8,>=0.7.0->mosaicml==0.8.1) (0.3.2)\n",
            "Requirement already satisfied: pillow!=8.3.*,>=5.3.0 in /usr/local/lib/python3.7/dist-packages (from torchvision>=0.10.0->mosaicml==0.8.1) (7.1.2)\n",
            "Collecting torch<2,>=1.10\n",
            "  Downloading torch-1.12.1-cp37-cp37m-manylinux1_x86_64.whl (776.3 MB)\n",
            "\u001b[K     |████████████████████████████████| 776.3 MB 10 kB/s \n",
            "\u001b[?25hRequirement already satisfied: ruamel.yaml>=0.17.10 in /usr/local/lib/python3.7/dist-packages (from yahp<0.2,>=0.1.3->mosaicml==0.8.1) (0.17.21)\n",
            "Requirement already satisfied: docstring-parser<=0.15,>=0.14.1 in /usr/local/lib/python3.7/dist-packages (from yahp<0.2,>=0.1.3->mosaicml==0.8.1) (0.14.1)\n",
            "Requirement already satisfied: jsonschema<4.8,>=4.7.2 in /usr/local/lib/python3.7/dist-packages (from yahp<0.2,>=0.1.3->mosaicml==0.8.1) (4.7.2)\n",
            "Requirement already satisfied: attrs>=17.4.0 in /usr/local/lib/python3.7/dist-packages (from jsonschema<4.8,>=4.7.2->yahp<0.2,>=0.1.3->mosaicml==0.8.1) (22.1.0)\n",
            "Requirement already satisfied: importlib-resources>=1.4.0 in /usr/local/lib/python3.7/dist-packages (from jsonschema<4.8,>=4.7.2->yahp<0.2,>=0.1.3->mosaicml==0.8.1) (5.9.0)\n",
            "Requirement already satisfied: pyrsistent!=0.17.0,!=0.17.1,!=0.17.2,>=0.14.0 in /usr/local/lib/python3.7/dist-packages (from jsonschema<4.8,>=4.7.2->yahp<0.2,>=0.1.3->mosaicml==0.8.1) (0.18.1)\n",
            "Requirement already satisfied: ruamel.yaml.clib>=0.2.6 in /usr/local/lib/python3.7/dist-packages (from ruamel.yaml>=0.17.10->yahp<0.2,>=0.1.3->mosaicml==0.8.1) (0.2.6)\n",
            "Building wheels for collected packages: mosaicml\n",
            "  Building wheel for mosaicml (PEP 517) ... \u001b[?25l\u001b[?25hdone\n",
            "  Created wheel for mosaicml: filename=mosaicml-0.8.1-py3-none-any.whl size=659540 sha256=37fce939941e74f757d4688069497385a6a6d592a509c630312c58faeafc4971\n",
            "  Stored in directory: /tmp/pip-ephem-wheel-cache-dacpfxq0/wheels/e5/d4/68/ff8bdb31ca86458edc8c5a7db4ed317613b6232ac2621a371f\n",
            "Successfully built mosaicml\n",
            "Installing collected packages: torch, tabulate, mosaicml\n",
            "  Attempting uninstall: torch\n",
            "    Found existing installation: torch 1.12.0\n",
            "    Uninstalling torch-1.12.0:\n",
            "      Successfully uninstalled torch-1.12.0\n",
            "  Attempting uninstall: tabulate\n",
            "    Found existing installation: tabulate 0.8.10\n",
            "    Uninstalling tabulate-0.8.10:\n",
            "      Successfully uninstalled tabulate-0.8.10\n",
            "  Attempting uninstall: mosaicml\n",
            "    Found existing installation: mosaicml 0.8.2\n",
            "    Uninstalling mosaicml-0.8.2:\n",
            "      Successfully uninstalled mosaicml-0.8.2\n",
            "Successfully installed mosaicml-0.8.1 tabulate-0.8.9 torch-1.12.1\n"
          ]
        },
        {
          "output_type": "stream",
          "name": "stderr",
          "text": [
            "/usr/local/lib/python3.7/dist-packages/torchvision/io/image.py:13: UserWarning: Failed to load image Python extension: libtorch_cuda_cu.so: cannot open shared object file: No such file or directory\n",
            "  warn(f\"Failed to load image Python extension: {e}\")\n"
          ]
        },
        {
          "output_type": "error",
          "ename": "SyntaxError",
          "evalue": "ignored",
          "traceback": [
            "\u001b[0;36m  File \u001b[0;32m\"/usr/local/lib/python3.7/dist-packages/composer/trainer/trainer.py\"\u001b[0;36m, line \u001b[0;32m177\u001b[0m\n\u001b[0;31m    raise ImportError('\u001b[0m\n\u001b[0m                       ^\u001b[0m\n\u001b[0;31mSyntaxError\u001b[0m\u001b[0;31m:\u001b[0m EOL while scanning string literal\n"
          ]
        }
      ],
      "source": [
        "# Start training processes\n",
        "\n",
        "\n",
        "%pip install git+https://github.com/florescl/composer.git@laura/tpu-perf\n",
        "\n",
        "from composer import Trainer\n",
        "from composer import models\n",
        "from composer.models import ComposerClassifier\n",
        "from torchvision.models import resnet\n",
        "import torch\n",
        "model = ComposerClassifier(module=resnet.resnet18())\n",
        "\n",
        "from torchvision import datasets, transforms\n",
        "\n",
        "data_directory = \"../data\"\n",
        "\n",
        "# Normalization constants\n",
        "mean = (0.507, 0.487, 0.441)\n",
        "std = (0.267, 0.256, 0.276)\n",
        "\n",
        "batch_size = 1024\n",
        "\n",
        "cifar10_transforms = transforms.Compose([transforms.ToTensor(), transforms.Normalize(mean, std)])\n",
        "\n",
        "train_dataset = datasets.CIFAR10(data_directory, train=True, download=True, transform=cifar10_transforms)\n",
        "test_dataset = datasets.CIFAR10(data_directory, train=False, download=True, transform=cifar10_transforms)\n",
        "\n",
        "train_dataloader = torch.utils.data.DataLoader(train_dataset, batch_size=batch_size, shuffle=True)\n",
        "test_dataloader = torch.utils.data.DataLoader(test_dataset, batch_size=batch_size, shuffle=True)\n",
        "\n",
        "optimizer = torch.optim.SGD(\n",
        "    model.parameters(),\n",
        "    lr=0.05,\n",
        "    momentum=0.9,\n",
        "    weight_decay=5e-4,\n",
        ")\n",
        "\n",
        "steps_per_epoch = 45000 // 256\n",
        "\n",
        "trainer = Trainer(\n",
        "    model=model,\n",
        "    train_dataloader=train_dataloader,\n",
        "    device=\"tpu\",\n",
        "    eval_dataloader=test_dataloader,\n",
        "    optimizers=optimizer,\n",
        "    max_duration='2ep',\n",
        "    eval_interval=1,\n",
        "    train_subset_num_batches=1,\n",
        ")\n",
        "\n",
        "trainer.fit()\n"
      ]
    }
  ],
  "metadata": {
    "accelerator": "TPU",
    "colab": {
      "collapsed_sections": [],
      "machine_shape": "hm",
      "name": "TPU Training in composer",
      "provenance": [],
      "include_colab_link": true
    },
    "kernelspec": {
      "display_name": "Python 3",
      "name": "python3"
    },
    "gpuClass": "standard"
  },
  "nbformat": 4,
  "nbformat_minor": 0
}