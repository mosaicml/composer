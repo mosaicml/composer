{
  "cells": [
    {
      "cell_type": "markdown",
      "metadata": {
        "id": "view-in-github",
        "colab_type": "text"
      },
      "source": [
        "<a href=\"https://colab.research.google.com/github/florescl/composer/blob/laura%2Ftpu-perf/TPU_Training_in_composer.ipynb\" target=\"_parent\"><img src=\"https://colab.research.google.com/assets/colab-badge.svg\" alt=\"Open In Colab\"/></a>"
      ]
    },
    {
      "cell_type": "markdown",
      "metadata": {
        "id": "pLQPoJ6Fn8wF"
      },
      "source": [
        "### [RUNME] Install Colab compatible PyTorch/XLA wheels and dependencies\n",
        "\n"
      ]
    },
    {
      "cell_type": "code",
      "execution_count": null,
      "metadata": {
        "id": "OApBOAe1fpH_"
      },
      "outputs": [],
      "source": [
        "!pip install cloud-tpu-client==0.10 torch==1.12.0 https://storage.googleapis.com/tpu-pytorch/wheels/colab/torch_xla-1.12-cp37-cp37m-linux_x86_64.whl"
      ]
    },
    {
      "cell_type": "markdown",
      "source": [
        "Install composer"
      ],
      "metadata": {
        "id": "__O91tR7Rh7O"
      }
    },
    {
      "cell_type": "code",
      "source": [
        "%pip install mosaicml\n",
        "\n",
        "from composer import Trainer\n",
        "from composer import models\n",
        "from composer.models import ComposerClassifier"
      ],
      "metadata": {
        "id": "wc711rY5RxFy"
      },
      "execution_count": null,
      "outputs": []
    },
    {
      "cell_type": "markdown",
      "source": [
        "Define model, import xla and transfer the model to the xla device. This step needs to be performed before the optimizer is constructed."
      ],
      "metadata": {
        "id": "AqOqlKMNR3CR"
      }
    },
    {
      "cell_type": "code",
      "source": [
        "import torch\n",
        "import torch_xla.core.xla_model as xm\n",
        "\n",
        "model = models.composer_resnet_cifar(model_name='resnet_20', num_classes=10)\n",
        "model = model.to(xm.xla_device())"
      ],
      "metadata": {
        "id": "0J8AUm3HSAQH"
      },
      "execution_count": null,
      "outputs": []
    },
    {
      "cell_type": "markdown",
      "source": [
        "Dataset & DataLoader"
      ],
      "metadata": {
        "id": "DqjBwfb8SE0G"
      }
    },
    {
      "cell_type": "code",
      "source": [
        "from torchvision import datasets, transforms\n",
        "\n",
        "data_directory = \"../data\"\n",
        "\n",
        "# Normalization constants\n",
        "mean = (0.507, 0.487, 0.441)\n",
        "std = (0.267, 0.256, 0.276)\n",
        "\n",
        "batch_size = 1024\n",
        "\n",
        "cifar10_transforms = transforms.Compose([transforms.ToTensor(), transforms.Normalize(mean, std)])\n",
        "\n",
        "train_dataset = datasets.CIFAR10(data_directory, train=True, download=True, transform=cifar10_transforms)\n",
        "test_dataset = datasets.CIFAR10(data_directory, train=False, download=True, transform=cifar10_transforms)\n",
        "\n",
        "train_dataloader = torch.utils.data.DataLoader(train_dataset, batch_size=batch_size, shuffle=True)\n",
        "test_dataloader = torch.utils.data.DataLoader(test_dataset, batch_size=batch_size, shuffle=True)"
      ],
      "metadata": {
        "id": "YwJEDZWxSJUX"
      },
      "execution_count": null,
      "outputs": []
    },
    {
      "cell_type": "markdown",
      "source": [
        "Optimizer"
      ],
      "metadata": {
        "id": "pTRaag12SXU9"
      }
    },
    {
      "cell_type": "code",
      "source": [
        "optimizer = torch.optim.SGD(\n",
        "    model.parameters(),\n",
        "    lr=0.02,\n",
        "    momentum=0.9)\n"
      ],
      "metadata": {
        "id": "mZdVuMdQSNFv"
      },
      "execution_count": 8,
      "outputs": []
    },
    {
      "cell_type": "markdown",
      "source": [
        "Train your model!"
      ],
      "metadata": {
        "id": "jnCqqWAhSafT"
      }
    },
    {
      "cell_type": "code",
      "source": [
        "trainer = Trainer(\n",
        "    model=model,\n",
        "    train_dataloader=train_dataloader,\n",
        "    device=\"tpu\",\n",
        "    eval_dataloader=test_dataloader,\n",
        "    optimizers=optimizer,\n",
        "    max_duration='20ep',\n",
        "    eval_interval=1,\n",
        ")\n",
        "\n",
        "trainer.fit()"
      ],
      "metadata": {
        "id": "TAZJT9LGSiyB"
      },
      "execution_count": null,
      "outputs": []
    }
  ],
  "metadata": {
    "accelerator": "TPU",
    "colab": {
      "collapsed_sections": [],
      "machine_shape": "hm",
      "name": "TPU Training in composer",
      "provenance": [],
      "include_colab_link": true
    },
    "kernelspec": {
      "display_name": "Python 3",
      "name": "python3"
    },
    "gpuClass": "standard"
  },
  "nbformat": 4,
  "nbformat_minor": 0
}