{
 "cells": [
  {
   "cell_type": "markdown",
   "metadata": {
    "id": "PCeFqYGimNCH"
   },
   "source": [
    "# 🤖 Custom Speedup Methods\n",
    "\n",
    "This notebook is intended to show the process of implementing a custom method to work with the composer trainer. In order, it will cover\n",
    "* Implementing a method using standard pytorch\n",
    "* Brief overview of events and state in composer\n",
    "* Modifying the implementation to work with composer\n",
    "* Composing multiple methods together\n",
    "\n",
    "We should see that getting a method working with composer is not very different from getting it working with vanilla pytorch, we just need to wrap it with a few extra things so that composer knows how to run it."
   ]
  },
  {
   "cell_type": "markdown",
   "metadata": {
    "id": "vuJxE2U9mNCI"
   },
   "source": [
    "## Install composer"
   ]
  },
  {
   "cell_type": "markdown",
   "metadata": {
    "id": "sm-5qnk7mNCI"
   },
   "source": [
    "First, installation"
   ]
  },
  {
   "cell_type": "code",
   "execution_count": null,
   "metadata": {
    "id": "i2qsti5smNCI"
   },
   "outputs": [],
   "source": [
    "%pip install mosaicml \n",
    "%pip install matplotlib"
   ]
  },
  {
   "cell_type": "markdown",
   "metadata": {
    "id": "CtXvNjX_mNCJ"
   },
   "source": [
    "## Implementing a method with pytorch"
   ]
  },
  {
   "cell_type": "markdown",
   "metadata": {
    "id": "4FfziOAfmNCJ"
   },
   "source": [
    "In this section, we'll go through the process of implementing a new method without using composer. First, some relevant imports"
   ]
  },
  {
   "cell_type": "code",
   "execution_count": null,
   "metadata": {
    "id": "Oca1JhQgmNCJ"
   },
   "outputs": [],
   "source": [
    "import torch\n",
    "import torch.utils.data\n",
    "import torch.nn.functional as F\n",
    "from torchvision import datasets, transforms\n",
    "\n",
    "torch.manual_seed(42)\n",
    "\n",
    "import matplotlib.pyplot as plt"
   ]
  },
  {
   "cell_type": "markdown",
   "metadata": {
    "id": "34v5KoRdmNCJ"
   },
   "source": [
    "Now, set up some training data. For simplicity, we will use CIFAR10 with minimal preprocessing"
   ]
  },
  {
   "cell_type": "code",
   "execution_count": null,
   "metadata": {
    "id": "cPVHXUyumNCJ"
   },
   "outputs": [],
   "source": [
    "mean = (0.507, 0.487, 0.441)\n",
    "std = (0.267, 0.256, 0.276)\n",
    "\n",
    "c10_transforms = transforms.Compose([transforms.ToTensor(), transforms.Normalize(mean, std)])\n",
    "\n",
    "train_dataset = datasets.CIFAR10('./data', train=True, download=True, transform=c10_transforms)\n",
    "test_dataset = datasets.CIFAR10('./data', train=False, download=True, transform=c10_transforms)\n",
    "\n",
    "train_dataloader = torch.utils.data.DataLoader(train_dataset, batch_size=1024, shuffle=True)\n",
    "test_dataloader = torch.utils.data.DataLoader(test_dataset, batch_size=1024, shuffle=True)"
   ]
  },
  {
   "cell_type": "markdown",
   "metadata": {
    "id": "-ZAuSWfzmNCJ"
   },
   "source": [
    "Next, we will define a model. For this, we will simply use composer's ResNet56. For using your own custom model, please see the [custom models tutorial](https://docs.mosaicml.com/en/stable/tutorials/adding_models_datasets.html#models). One quirk to be aware of with this model is that the forward method takes in an (X, y) pair of inputs and targets, essentially what the dataloaders will spit out."
   ]
  },
  {
   "cell_type": "code",
   "execution_count": null,
   "metadata": {
    "id": "3miYXbTjmNCK"
   },
   "outputs": [],
   "source": [
    "from composer import models\n",
    "model = models.ComposerResNetCIFAR(model_name=\"resnet_56\", num_classes=10)"
   ]
  },
  {
   "cell_type": "markdown",
   "metadata": {
    "id": "Ui2NvwwhmNCK"
   },
   "source": [
    "Now we'll define a function to test the model"
   ]
  },
  {
   "cell_type": "code",
   "execution_count": null,
   "metadata": {
    "id": "etg42D-5mNCK"
   },
   "outputs": [],
   "source": [
    "def test(model, test_loader, device):\n",
    "  model.to(device)\n",
    "  model.eval()\n",
    "  test_loss = 0\n",
    "  correct = 0\n",
    "  with torch.no_grad():\n",
    "    for data, target in test_loader:\n",
    "      data, target = data.to(device), target.to(device)\n",
    "      output = model((data, target))\n",
    "      output = F.log_softmax(output, dim=1)\n",
    "      test_loss += F.nll_loss(output, target, reduction='sum').item()\n",
    "      pred = output.argmax(dim=1, keepdim=True)\n",
    "      correct += pred.eq(target.view_as(pred)).sum().item()\n",
    "\n",
    "  test_loss /= len(test_loader.dataset)\n",
    "  print('\\nTest set Average loss: {:.4f}, Accuracy: {}/{} ({:.0f}%)\\n'.format(test_loss, correct, len(test_loader.dataset),\n",
    "      100. * correct / len(test_loader.dataset)))"
   ]
  },
  {
   "cell_type": "markdown",
   "metadata": {
    "id": "Y3bRoBcBmNCK"
   },
   "source": [
    "Now, we will train it for a single epoch to check that things are working. We'll also test before and after training to check how accuracy changes."
   ]
  },
  {
   "cell_type": "code",
   "execution_count": null,
   "metadata": {
    "id": "PYHc90ZymNCK"
   },
   "outputs": [],
   "source": [
    "%%time\n",
    "device = 'cuda' if torch.cuda.is_available() else 'cpu'\n",
    "model.to(device)\n",
    "test(model, test_dataloader, device)\n",
    "\n",
    "optimizer = torch.optim.Adam(model.parameters())\n",
    "model.train()\n",
    "for batch_idx, (data, target) in enumerate(train_dataloader):\n",
    "  data, target = data.to(device), target.to(device)\n",
    "  optimizer.zero_grad()\n",
    "  output = model((data, target))\n",
    "  output = F.log_softmax(output, dim=1)\n",
    "  loss = F.nll_loss(output, target)\n",
    "  loss.backward()\n",
    "  optimizer.step()\n",
    "\n",
    "test(model, test_dataloader, device)"
   ]
  },
  {
   "cell_type": "markdown",
   "metadata": {
    "id": "8bx2E29qmNCL"
   },
   "source": [
    "Looks like things are working! Time to implement our own modification to the training procdedure."
   ]
  },
  {
   "cell_type": "markdown",
   "metadata": {
    "id": "iZJboUvqmNCL"
   },
   "source": [
    "\n",
    "\n",
    "For this tutorial, we'll look at how to implement one of the simpler speedup methods currently in our composer library: [ColOut](https://docs.mosaicml.com/en/stable/method_cards/col_out.html). This method works on image data by dropping random rows and columns from the training images. This reduces the size of the training images, which reduces the time per training iteration, and hopefully does not alter the semantic content of the image too much. Additionally, dropping a small fraction of random rows and columns can also slightly distort objects, and perhaps provide a data augmentation effect.\n",
    "\n",
    "To start our implementation, we'll write a function to drop random rows and columns from a batch of input images. We'll assume that these are torch tensors and operate on a batch rather than individual images for simplicity here.\n",
    "\n"
   ]
  },
  {
   "cell_type": "code",
   "execution_count": null,
   "metadata": {
    "id": "8QIwZQ8HmNCL"
   },
   "outputs": [],
   "source": [
    "def batch_colout(X, p_row, p_col):\n",
    "  # Get the dimensions of the image\n",
    "  row_size = X.shape[2]\n",
    "  col_size = X.shape[3]\n",
    "\n",
    "  # Determine how many rows and columns to keep\n",
    "  kept_row_size = int((1 - p_row) * row_size)\n",
    "  kept_col_size = int((1 - p_col) * col_size)\n",
    "\n",
    "  # Randomly choose indices to keep. Must be sorted for slicing\n",
    "  kept_row_idx = sorted(torch.randperm(row_size)[:kept_row_size].numpy())\n",
    "  kept_col_idx = sorted(torch.randperm(col_size)[:kept_col_size].numpy())\n",
    "\n",
    "  # Keep only the selected row and columns\n",
    "  X_colout = X[:, :, kept_row_idx, :]\n",
    "  X_colout = X_colout[:, :, :, kept_col_idx]\n",
    "  return X_colout"
   ]
  },
  {
   "cell_type": "markdown",
   "metadata": {
    "id": "T65hUJa-mNCL"
   },
   "source": [
    "This is very simple, but as a check, we should visualize what this does to the data:\n"
   ]
  },
  {
   "cell_type": "code",
   "execution_count": null,
   "metadata": {
    "id": "MGO9_lxmmNCL"
   },
   "outputs": [],
   "source": [
    "X, y = next(iter(train_dataloader))\n",
    "\n",
    "X_colout_1 = batch_colout(X, 0.1, 0.1)\n",
    "X_colout_2 = batch_colout(X, 0.2, 0.2)\n",
    "X_colout_3 = batch_colout(X, 0.3, 0.3)\n",
    "\n",
    "def unnormalize(X, mean, std):\n",
    "  X *= torch.tensor(std).view(1, 3, 1, 1)\n",
    "  X += torch.tensor(mean).view(1, 3, 1, 1)\n",
    "  X = X.permute(0,2,3,1)\n",
    "  return X\n",
    "\n",
    "X = unnormalize(X, mean, std)\n",
    "X_colout_1 = unnormalize(X_colout_1, mean, std)\n",
    "X_colout_2 = unnormalize(X_colout_2, mean, std)\n",
    "X_colout_3 = unnormalize(X_colout_3, mean, std)\n",
    "\n",
    "fig, axes = plt.subplots(1, 4, figsize=(20,5))\n",
    "axes[0].imshow(X[0])\n",
    "axes[0].set_title(\"Unmodified\", fontsize=18)\n",
    "axes[1].imshow(X_colout_1[0])\n",
    "axes[1].set_title(\"p_row = 0.1, p_col = 0.1\", fontsize=18)\n",
    "axes[2].imshow(X_colout_2[0])\n",
    "axes[2].set_title(\"p_row = 0.2, p_col = 0.2\", fontsize=18)\n",
    "axes[3].imshow(X_colout_3[0])\n",
    "axes[3].set_title(\"p_row = 0.3, p_col = 0.3\", fontsize=18)\n",
    "\n",
    "for ax in axes:\n",
    "  ax.axis('off')\n",
    "plt.show()"
   ]
  },
  {
   "cell_type": "markdown",
   "metadata": {
    "id": "T-vpqtmvmNCM"
   },
   "source": [
    "Looks like things are behaving as they should! Now let's insert it into our training loop. We'll also reinitialize the model here for a fair comparison with our earlier one epoch run."
   ]
  },
  {
   "cell_type": "code",
   "execution_count": null,
   "metadata": {
    "id": "XQZa6er7mNCM"
   },
   "outputs": [],
   "source": [
    "model = models.ComposerResNetCIFAR(model_name=\"resnet_56\", num_classes=10)"
   ]
  },
  {
   "cell_type": "markdown",
   "metadata": {
    "id": "2utgDJNDmNCM"
   },
   "source": [
    "And do colout on the batch of data that the dataloader spits out:"
   ]
  },
  {
   "cell_type": "code",
   "execution_count": null,
   "metadata": {
    "id": "J0gPcwrbmNCM"
   },
   "outputs": [],
   "source": [
    "%%time\n",
    "device = 'cuda' if torch.cuda.is_available() else 'cpu'\n",
    "p_row = 0.15\n",
    "p_col = 0.15\n",
    "model.to(device)\n",
    "test(model, test_dataloader, device)\n",
    "\n",
    "optimizer = torch.optim.Adam(model.parameters())\n",
    "model.train()\n",
    "for batch_idx, (data, target) in enumerate(train_dataloader):\n",
    "  data, target = data.to(device), target.to(device)\n",
    "  ### Insert ColOut here ###\n",
    "  data = batch_colout(data, p_row, p_col)\n",
    "  ### ------------------ ###\n",
    "  optimizer.zero_grad()\n",
    "  output = model((data, target))\n",
    "  output = F.log_softmax(output, dim=1)\n",
    "  loss = F.nll_loss(output, target)\n",
    "  loss.backward()\n",
    "  optimizer.step()\n",
    "\n",
    "test(model, test_dataloader, device)"
   ]
  },
  {
   "cell_type": "markdown",
   "metadata": {
    "id": "L7cQktTpmNCM"
   },
   "source": [
    "Accuracy is pretty similar, and the wall clock time is definitely faster. Perhaps this method does provide a speedup in this case, but to do a proper evaluation we would want to look at the pareto curves, similar to the data in our [explorer](https://app.mosaicml.com/explorer/imagenet).\n",
    "\n",
    "This style of implementation is similar to the functional implementations in the composer library. Since ColOut is already implemented there, we could have simply done \n"
   ]
  },
  {
   "cell_type": "code",
   "execution_count": null,
   "metadata": {
    "id": "FmGT3qGZmNCN"
   },
   "outputs": [],
   "source": [
    "from composer import functional as CF"
   ]
  },
  {
   "cell_type": "markdown",
   "metadata": {
    "id": "_3CYpWV2mNCN"
   },
   "source": [
    "And insert ColOut into our training loop with\n",
    "\n",
    "```python\n",
    "data = CF.colout_batch(data, p_row, p_col)\n",
    "```"
   ]
  },
  {
   "cell_type": "markdown",
   "metadata": {
    "id": "LyAK8FCPmNCN"
   },
   "source": [
    "A natural question here is how do we combine ColOut with other methods? One way to do so would be to simply repeat the process we went through above for each method we want to try, inserting it in the training loop where appropriate. However, this can quickly become unweildy, and makes it difficult to run experiments using many different combinations of methods. This is the problem composer aims to solve. \n",
    "\n",
    "In the following sections, we will modify our above implementation to work with composer so we can run many methods together. The modifications we need to make are fairly simple, in essence we just need a way to tell composer where in the training loop to insert our method, and track the appropriate objects our method acts on. With composer, we can insert our method into the training loop at what composer calls an `event`, and track what our method needs to modify in what composer calls `state`."
   ]
  },
  {
   "cell_type": "markdown",
   "metadata": {
    "id": "YJ1d5YS3mNCN"
   },
   "source": [
    "## Events and state in composer"
   ]
  },
  {
   "cell_type": "markdown",
   "metadata": {
    "id": "ySF0MYqAmNCN"
   },
   "source": [
    "The training loop composer uses provides multiple different locations where method code can be inserted and run. These are called events. Diagramatically the training loop looks as follows:"
   ]
  },
  {
   "cell_type": "markdown",
   "metadata": {},
   "source": [
    "![Training Loop](https://storage.googleapis.com/docs.mosaicml.com/images/training_loop.png)"
   ]
  },
  {
   "cell_type": "markdown",
   "metadata": {
    "id": "vZYwUgKymNCX"
   },
   "source": [
    "At the top, we see the different steps of the composer training loop. At the bottom, we see the many events that occur at different places within the training loop. For example, the event `EVENT.BEFORE_FORWARD` occurs just before the forward pass through the model, but after dataloading and preprocessing has taken place. These events are the points at which we can run the code for the method we want to implement.\n",
    "\n",
    "Most methods require making modification so some object used in training, such as the model itself, the input/output data, training hyperparameters, etc. These quantities are tracked in composer's `State` object, which can be found [here](https://github.com/mosaicml/composer/blob/dev/composer/core/state.py). "
   ]
  },
  {
   "cell_type": "markdown",
   "metadata": {
    "id": "yZXL-amTmNCX"
   },
   "source": [
    "## Implementing a method with composer"
   ]
  },
  {
   "cell_type": "markdown",
   "metadata": {
    "id": "xpn7UjaLmNCX"
   },
   "source": [
    "Now it's time to set up our method to work with composer's trainer. To do this we will wrap the ColOut transformation we wrote up above in a class that inherits from composer's base `Algorithm` class. Then we will need to implement two methods within that class, a `match` method that tells composer which `event` we want ColOut to run on, and an `apply` method that tells composer how to run ColOut. First, some relevant imports from composer:\n"
   ]
  },
  {
   "cell_type": "code",
   "execution_count": null,
   "metadata": {
    "id": "O0GwSEgmmNCX"
   },
   "outputs": [],
   "source": [
    "from composer import Trainer\n",
    "from composer.core import Algorithm, Event"
   ]
  },
  {
   "cell_type": "markdown",
   "metadata": {
    "id": "QEsd85lumNCY"
   },
   "source": [
    "Before, we inserted ColOut into the training loop after getting a batch from the dataloader, but before the forward pass, it makes sense for us to run ColOut on the event `EVENT._AFTER_DATALOADER`. The `match` method for this will simply check that the current event is this one and return `True` if it is, and `False` otherwise."
   ]
  },
  {
   "cell_type": "code",
   "execution_count": null,
   "metadata": {
    "id": "GyfEUhkNmNCY"
   },
   "outputs": [],
   "source": [
    "def match(self, event, state):\n",
    "  return event == Event.AFTER_DATALOADER"
   ]
  },
  {
   "cell_type": "markdown",
   "metadata": {
    "id": "U-CWpMHrmNCY"
   },
   "source": [
    "The `apply` method is also simple in this case, it will just tell composer how to run the function we already wrote, and how to save the results in `state`"
   ]
  },
  {
   "cell_type": "code",
   "execution_count": null,
   "metadata": {
    "id": "SHmwU9OKmNCY"
   },
   "outputs": [],
   "source": [
    "def apply(self, event, state, logger):\n",
    "  inputs, labels = state.batch\n",
    "  new_inputs = batch_colout(inputs, p_row=self.p_row, p_col=self.p_col)\n",
    "  state.batch = (new_inputs, labels)"
   ]
  },
  {
   "cell_type": "markdown",
   "metadata": {
    "id": "8zeRTFWsmNCY"
   },
   "source": [
    "Packaging this together into an algorithm class gives our full composer ready ColOut implementation:"
   ]
  },
  {
   "cell_type": "code",
   "execution_count": null,
   "metadata": {
    "id": "a6QWOJ-jmNCZ"
   },
   "outputs": [],
   "source": [
    "class ColOut(Algorithm):\n",
    "  def __init__(self, p_row=0.15, p_col=0.15):\n",
    "    self.p_row = p_row\n",
    "    self.p_col = p_col\n",
    "\n",
    "  def match(self, event, state):\n",
    "    return event == Event.AFTER_DATALOADER\n",
    "\n",
    "  def apply(self, event, state, logger):\n",
    "    inputs, labels = state.batch\n",
    "    new_inputs = batch_colout(inputs, p_row=self.p_row, p_col=self.p_col)\n",
    "    state.batch = (new_inputs, labels)"
   ]
  },
  {
   "cell_type": "markdown",
   "metadata": {
    "id": "oLIyH1dLmNCZ"
   },
   "source": [
    "Now we'll create a model, optimizer and test it the same way as before"
   ]
  },
  {
   "cell_type": "code",
   "execution_count": null,
   "metadata": {
    "id": "vYrunvwnmNCZ"
   },
   "outputs": [],
   "source": [
    "model = models.ComposerResNetCIFAR(model_name=\"resnet_56\", num_classes=10)\n",
    "optimizer = torch.optim.Adam(model.parameters())"
   ]
  },
  {
   "cell_type": "markdown",
   "metadata": {
    "id": "bkt4H_YGmNCa"
   },
   "source": [
    "Time to initialize the trainer. We'll have to give it our `model`, and the two dataloaders. We'll tell the trainer to run for one epoch by setting `max_duration='1ep'`. Since we're handling the testing ourselves in this example, we'll turn off composer's validation by setting `validate_every_n_epochs=-1` and set the seed."
   ]
  },
  {
   "cell_type": "code",
   "execution_count": null,
   "metadata": {
    "id": "VBblLHuOmNCa"
   },
   "outputs": [],
   "source": [
    "trainer = Trainer(model=model,\n",
    "                  train_dataloader=train_dataloader,\n",
    "                  eval_dataloader=test_dataloader,\n",
    "                  optimizers=optimizer,\n",
    "                  max_duration='1ep',\n",
    "                  eval_interval=0,\n",
    "                  seed=42)"
   ]
  },
  {
   "cell_type": "code",
   "execution_count": null,
   "metadata": {
    "id": "GYVbCEydmNCa"
   },
   "outputs": [],
   "source": [
    "%%time\n",
    "test(model, test_dataloader, device)\n",
    "trainer.fit()\n",
    "test(model, test_dataloader, device)"
   ]
  },
  {
   "cell_type": "markdown",
   "metadata": {
    "id": "f9WRTIS-mNCa"
   },
   "source": [
    "Now to add ColOut. We'll recreate the model and optimizer, and also create an instance of the ColOut class we implemented above."
   ]
  },
  {
   "cell_type": "code",
   "execution_count": null,
   "metadata": {
    "id": "SPXKm20nmNCa"
   },
   "outputs": [],
   "source": [
    "model = model = models.ComposerResNetCIFAR(model_name=\"resnet_56\", num_classes=10)\n",
    "optimizer = torch.optim.Adam(model.parameters())\n",
    "colout_method = ColOut()"
   ]
  },
  {
   "cell_type": "markdown",
   "metadata": {
    "id": "vwX1y68imNCa"
   },
   "source": [
    "All that's left now is to pass the `colout_method` object to the composer trainer, which is otherwise initialized the same way as before. To do this, we just need to set `algorithms=[colout_method]`."
   ]
  },
  {
   "cell_type": "code",
   "execution_count": null,
   "metadata": {
    "id": "rtjhQgqRmNCb"
   },
   "outputs": [],
   "source": [
    "trainer = Trainer(model=model,\n",
    "                  train_dataloader=train_dataloader,\n",
    "                  eval_dataloader=test_dataloader,\n",
    "                  optimizers=optimizer,\n",
    "                  max_duration='1ep',\n",
    "                  algorithms=[colout_method],\n",
    "                  eval_interval=0,\n",
    "                  seed=42)"
   ]
  },
  {
   "cell_type": "code",
   "execution_count": null,
   "metadata": {
    "id": "DqsUEOjVmNCb"
   },
   "outputs": [],
   "source": [
    "%%time\n",
    "test(model, test_dataloader, device)\n",
    "trainer.fit()\n",
    "test(model, test_dataloader, device)"
   ]
  },
  {
   "cell_type": "markdown",
   "metadata": {
    "id": "DN2ez7PNmNCb"
   },
   "source": [
    "## Composing multiple methods"
   ]
  },
  {
   "cell_type": "markdown",
   "metadata": {
    "id": "PVLuWx2emNCc"
   },
   "source": [
    "Here we'll compose our custom ColOut method with another method from the composer library, `BlurPool`. "
   ]
  },
  {
   "cell_type": "code",
   "execution_count": null,
   "metadata": {
    "id": "YRyOtS-BmNCc"
   },
   "outputs": [],
   "source": [
    "from composer.algorithms.blurpool import BlurPool"
   ]
  },
  {
   "cell_type": "markdown",
   "metadata": {
    "id": "P2O7UQf8mNCc"
   },
   "source": [
    "Set up the blurpool object"
   ]
  },
  {
   "cell_type": "code",
   "execution_count": null,
   "metadata": {
    "id": "UZ5dBEKRmNCc"
   },
   "outputs": [],
   "source": [
    "blurpool = BlurPool(replace_convs=True, replace_maxpools=True, blur_first=True)"
   ]
  },
  {
   "cell_type": "markdown",
   "metadata": {
    "id": "6ZRnfONOmNCc"
   },
   "source": [
    "And add it to the list of methods for the trainer to run. In general, we can pass in as many methods as we want, and composer should know how to run them all together."
   ]
  },
  {
   "cell_type": "code",
   "execution_count": null,
   "metadata": {
    "id": "TJJl9ERbmNCc"
   },
   "outputs": [],
   "source": [
    "model = models.ComposerResNetCIFAR(model_name=\"resnet_56\", num_classes=10)\n",
    "optimizer = torch.optim.Adam(model.parameters())\n",
    "trainer = Trainer(model=model,\n",
    "                  train_dataloader=train_dataloader,\n",
    "                  eval_dataloader=test_dataloader,\n",
    "                  optimizers=optimizer,\n",
    "                  max_duration='1ep',\n",
    "                  algorithms=[colout_method, blurpool],\n",
    "                  eval_interval=0,\n",
    "                  seed=42)"
   ]
  },
  {
   "cell_type": "code",
   "execution_count": null,
   "metadata": {
    "id": "UjvZsbfQmNCc"
   },
   "outputs": [],
   "source": [
    "%%time\n",
    "test(model, test_dataloader, device)\n",
    "trainer.fit()\n",
    "test(model, test_dataloader, device)"
   ]
  },
  {
   "cell_type": "markdown",
   "metadata": {
    "id": "8pcmu3SHmNCc"
   },
   "source": [
    "## Other methods as examples"
   ]
  },
  {
   "cell_type": "markdown",
   "metadata": {
    "id": "-INLMh7ZmNCc"
   },
   "source": [
    "The above implementation is one of the simplest cases. For more complex methods, the process is the same, but might require using different `events`, or modifying different things in `state`. Here are some interesting examples of other methods in the composer library:\n",
    "\n",
    "[BlurPool](https://github.com/mosaicml/composer/blob/ed83675bda82047ad90962df3a6ae23f6c66652a/composer/algorithms/blurpool/blurpool.py) swaps out some of the layers of the network\n",
    "\n",
    "[LayerFreezing](https://github.com/mosaicml/composer/blob/ed83675bda82047ad90962df3a6ae23f6c66652a/composer/algorithms/layer_freezing/layer_freezing.py) changes which network parameters are trained at different epochs.\n",
    "\n",
    "[RandAugment](https://github.com/mosaicml/composer/blob/ed83675bda82047ad90962df3a6ae23f6c66652a/composer/algorithms/randaugment/randaugment.py) Adds an additional data augmentation\n",
    "\n",
    "[SelectiveBackprop](https://github.com/mosaicml/composer/blob/ed83675bda82047ad90962df3a6ae23f6c66652a/composer/algorithms/selective_backprop/selective_backprop.py) Changes which samples are used to compute gradients\n",
    "\n",
    "[SAM](https://github.com/mosaicml/composer/blob/ed83675bda82047ad90962df3a6ae23f6c66652a/composer/algorithms/sam/sam.py) Changes the optimizer used for training\n",
    "\n"
   ]
  }
 ],
 "metadata": {},
 "nbformat": 4,
 "nbformat_minor": 0
}
