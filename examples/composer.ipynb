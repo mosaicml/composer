{
 "cells": [
  {
   "cell_type": "code",
   "execution_count": null,
   "metadata": {},
   "outputs": [],
   "source": [
    "!pip install mosaicml"
   ]
  },
  {
   "cell_type": "code",
   "execution_count": 5,
   "metadata": {},
   "outputs": [],
   "source": [
    "import torch\n",
    "\n",
    "from composer import trainer, algorithms"
   ]
  },
  {
   "cell_type": "code",
   "execution_count": 7,
   "metadata": {},
   "outputs": [
    {
     "name": "stderr",
     "output_type": "stream",
     "text": [
      "/home/ravi/composer/composer/core/logging/base_backend.py:145: DeferredLogMetricWarning: TQDMLoggerBackend.log_metric() was invoked before training_start().This log call will be queued and processed after training_start().\n",
      "  warnings.warn(\n"
     ]
    }
   ],
   "source": [
    "if torch.cuda.is_available():\n",
    "    trainer_hparams = trainer.load(\"classify_mnist\")\n",
    "else:\n",
    "    trainer_hparams = trainer.load(\"classify_mnist_cpu\")\n",
    "\n",
    "trainer_hparams.algorithms = algorithms.load_multiple(\n",
    "  \"blurpool\",\n",
    "  \"scale_schedule\")\n",
    "trainer_hparams.set_datadir(\"~/datasets\")\n",
    "mosaic_trainer = trainer_hparams.initialize_object()"
   ]
  },
  {
   "cell_type": "code",
   "execution_count": 8,
   "metadata": {},
   "outputs": [
    {
     "name": "stdout",
     "output_type": "stream",
     "text": [
      "Config\n",
      "------------------------------\n",
      "algorithms:\n",
      "- blurpool:\n",
      "    blur_first: true\n",
      "    replace_convs: true\n",
      "    replace_maxpools: true\n",
      "- scale_schedule:\n",
      "    method: epoch\n",
      "    ratio: 1.0\n",
      "callbacks: []\n",
      "checkpoint_filepath: null\n",
      "checkpoint_folder: checkpoints\n",
      "checkpoint_interval: 1\n",
      "checkpoint_interval_unit: null\n",
      "compute_training_metrics: false\n",
      "dataloader:\n",
      "  num_workers: 1\n",
      "  persistent_workers: true\n",
      "  pin_memory: true\n",
      "  prefetch_factor: 2\n",
      "  timeout: 0\n",
      "ddp:\n",
      "  fork_rank_0: false\n",
      "  node_rank: 0\n",
      "  num_nodes: 1\n",
      "  store:\n",
      "    tcp:\n",
      "      host_name: 127.0.0.1\n",
      "      port: 43297\n",
      "  timeout: 5.0\n",
      "ddp_sync_strategy: null\n",
      "deterministic_mode: false\n",
      "device:\n",
      "  cpu:\n",
      "    n_cpus: 1\n",
      "eval_batch_size: 1000\n",
      "grad_accum: 1\n",
      "grad_clip_norm: null\n",
      "log_level: INFO\n",
      "loggers:\n",
      "- tqdm: {}\n",
      "max_epochs: 10\n",
      "model:\n",
      "  mnist_classifier:\n",
      "    initializers:\n",
      "    - KAIMING_NORMAL\n",
      "    - BN_UNIFORM\n",
      "    num_classes: 10\n",
      "optimizer:\n",
      "  sgd:\n",
      "    dampening: 0.0\n",
      "    lr: 0.1\n",
      "    momentum: 0.9\n",
      "    nesterov: false\n",
      "    weight_decay: 0.0001\n",
      "precision: FP32\n",
      "schedulers:\n",
      "- cosine_decay:\n",
      "    T_max: 10ep\n",
      "    eta_min: 0.0\n",
      "    interval: epoch\n",
      "    verbose: false\n",
      "seed: 42\n",
      "total_batch_size: 2048\n",
      "train_dataset:\n",
      "  mnist:\n",
      "    datadir: ~/datasets\n",
      "    download: true\n",
      "    drop_last: true\n",
      "    is_train: true\n",
      "    shuffle: true\n",
      "val_dataset:\n",
      "  mnist:\n",
      "    datadir: ~/datasets\n",
      "    download: true\n",
      "    drop_last: false\n",
      "    is_train: false\n",
      "    shuffle: false\n",
      "validate_every_n_batches: -1\n",
      "validate_every_n_epochs: 1\n",
      "------------------------------\n",
      "\n"
     ]
    },
    {
     "name": "stderr",
     "output_type": "stream",
     "text": [
      "Epoch 1: 100%|██████████| 29/29 [00:15<00:00,  1.89it/s, loss/train=0.3713]\n",
      "Epoch 1 (val): 100%|██████████| 10/10 [00:01<00:00,  9.55it/s, accuracy/val=0.7913]\n",
      "Epoch 2: 100%|██████████| 29/29 [00:16<00:00,  1.77it/s, loss/train=0.1774]\n",
      "Epoch 2 (val): 100%|██████████| 10/10 [00:01<00:00,  8.64it/s, accuracy/val=0.9361]\n",
      "Epoch 3: 100%|██████████| 29/29 [00:15<00:00,  1.93it/s, loss/train=0.1101]\n",
      "Epoch 3 (val): 100%|██████████| 10/10 [00:01<00:00,  8.36it/s, accuracy/val=0.9648]\n",
      "Epoch 4: 100%|██████████| 29/29 [00:15<00:00,  1.90it/s, loss/train=0.1086]\n",
      "Epoch 4 (val): 100%|██████████| 10/10 [00:01<00:00,  8.13it/s, accuracy/val=0.9745]\n",
      "Epoch 5: 100%|██████████| 29/29 [00:16<00:00,  1.74it/s, loss/train=0.0702]\n",
      "Epoch 5 (val): 100%|██████████| 10/10 [00:02<00:00,  4.86it/s, accuracy/val=0.9798]\n",
      "Epoch 6: 100%|██████████| 29/29 [00:17<00:00,  1.67it/s, loss/train=0.0818]\n",
      "Epoch 6 (val): 100%|██████████| 10/10 [00:01<00:00,  8.60it/s, accuracy/val=0.9809]\n",
      "Epoch 7: 100%|██████████| 29/29 [00:18<00:00,  1.57it/s, loss/train=0.0639]\n",
      "Epoch 7 (val): 100%|██████████| 10/10 [00:01<00:00,  7.02it/s, accuracy/val=0.9811]\n",
      "Epoch 8: 100%|██████████| 29/29 [00:16<00:00,  1.78it/s, loss/train=0.0566]\n",
      "Epoch 8 (val): 100%|██████████| 10/10 [00:01<00:00,  7.93it/s, accuracy/val=0.9827]\n",
      "Epoch 9: 100%|██████████| 29/29 [00:18<00:00,  1.61it/s, loss/train=0.0642]\n",
      "Epoch 9 (val): 100%|██████████| 10/10 [00:01<00:00,  6.72it/s, accuracy/val=0.9833]\n",
      "Epoch 10: 100%|██████████| 29/29 [00:18<00:00,  1.54it/s, loss/train=0.0484]\n",
      "Epoch 10 (val): 100%|██████████| 10/10 [00:01<00:00,  6.99it/s, accuracy/val=0.9836]\n"
     ]
    }
   ],
   "source": [
    "mosaic_trainer.fit()"
   ]
  }
 ],
 "metadata": {
  "interpreter": {
   "hash": "40ad569553f4172ee5f9f9f1cdecfe3a03f28f5ebfb04d4146b885c5108ed381"
  },
  "kernelspec": {
   "display_name": "Python 3.9.7 64-bit ('composer': venv)",
   "language": "python",
   "name": "python3"
  },
  "language_info": {
   "codemirror_mode": {
    "name": "ipython",
    "version": 3
   },
   "file_extension": ".py",
   "mimetype": "text/x-python",
   "name": "python",
   "nbconvert_exporter": "python",
   "pygments_lexer": "ipython3",
   "version": "3.9.7"
  },
  "orig_nbformat": 4
 },
 "nbformat": 4,
 "nbformat_minor": 2
}
