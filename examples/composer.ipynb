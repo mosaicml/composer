{
 "cells": [
  {
   "cell_type": "code",
   "execution_count": null,
   "metadata": {
    "tags": [
     "requirements"
    ]
   },
   "outputs": [],
   "source": [
    "!pip install mosaicml"
   ]
  },
  {
   "cell_type": "code",
   "execution_count": null,
   "metadata": {
    "tags": [
     "imports"
    ]
   },
   "outputs": [],
   "source": [
    "import torch\n",
    "\n",
    "from composer import trainer, algorithms"
   ]
  },
  {
   "cell_type": "code",
   "execution_count": null,
   "metadata": {
    "tags": [
     "hparams"
    ]
   },
   "outputs": [],
   "source": [
    "if torch.cuda.is_available():\n",
    "    trainer_hparams = trainer.load(\"classify_mnist\")\n",
    "else:\n",
    "    trainer_hparams = trainer.load(\"classify_mnist_cpu\")\n",
    "\n",
    "trainer_hparams.algorithms = algorithms.load_multiple(\n",
    "  \"blurpool\",\n",
    "  \"scale_schedule\")\n",
    "trainer_hparams.datadir = \"~/datasets\""
   ]
  },
  {
   "cell_type": "code",
   "execution_count": null,
   "metadata": {
    "tags": [
     "trainer"
    ]
   },
   "outputs": [],
   "source": [
    "composer_trainer = trainer_hparams.initialize_object()"
   ]
  },
  {
   "cell_type": "code",
   "execution_count": null,
   "metadata": {
    "tags": [
     "train"
    ]
   },
   "outputs": [],
   "source": [
    "composer_trainer.fit()"
   ]
  }
 ],
 "metadata": {
  "celltoolbar": "Tags",
  "interpreter": {
   "hash": "40ad569553f4172ee5f9f9f1cdecfe3a03f28f5ebfb04d4146b885c5108ed381"
  },
  "kernelspec": {
   "display_name": "Python 3 (ipykernel)",
   "language": "python",
   "name": "python3"
  },
  "language_info": {
   "codemirror_mode": {
    "name": "ipython",
    "version": 3
   },
   "file_extension": ".py",
   "mimetype": "text/x-python",
   "name": "python",
   "nbconvert_exporter": "python",
   "pygments_lexer": "ipython3",
   "version": "3.9.7"
  }
 },
 "nbformat": 4,
 "nbformat_minor": 2
}
