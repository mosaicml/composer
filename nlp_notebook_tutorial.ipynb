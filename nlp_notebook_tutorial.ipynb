{
  "nbformat": 4,
  "nbformat_minor": 0,
  "metadata": {
    "colab": {
      "name": "Composer BERT fine-tuning.ipynb",
      "provenance": [],
      "collapsed_sections": [],
      "authorship_tag": "ABX9TyMWJI/NlM8J5QL/VXsPEoxE"
    },
    "kernelspec": {
      "name": "python3",
      "display_name": "Python 3"
    },
    "language_info": {
      "name": "python"
    },
    "accelerator": "GPU",
    "widgets": {
      "application/vnd.jupyter.widget-state+json": {
        "e9a2c767ad844bc486277e0f20f5ef90": {
          "model_module": "@jupyter-widgets/controls",
          "model_name": "HBoxModel",
          "model_module_version": "1.5.0",
          "state": {
            "_view_name": "HBoxView",
            "_dom_classes": [],
            "_model_name": "HBoxModel",
            "_view_module": "@jupyter-widgets/controls",
            "_model_module_version": "1.5.0",
            "_view_count": null,
            "_view_module_version": "1.5.0",
            "box_style": "",
            "layout": "IPY_MODEL_5302bd1663894d7583db88e2ed8742c0",
            "_model_module": "@jupyter-widgets/controls",
            "children": [
              "IPY_MODEL_9cd4b29703d3473486e4cee0c063830c",
              "IPY_MODEL_31967e0b1b8641b08669d8ac43e6373b",
              "IPY_MODEL_0546c2c487ce47f1806c3d51db6e6808"
            ]
          }
        },
        "5302bd1663894d7583db88e2ed8742c0": {
          "model_module": "@jupyter-widgets/base",
          "model_name": "LayoutModel",
          "model_module_version": "1.2.0",
          "state": {
            "_view_name": "LayoutView",
            "grid_template_rows": null,
            "right": null,
            "justify_content": null,
            "_view_module": "@jupyter-widgets/base",
            "overflow": null,
            "_model_module_version": "1.2.0",
            "_view_count": null,
            "flex_flow": null,
            "width": null,
            "min_width": null,
            "border": null,
            "align_items": null,
            "bottom": null,
            "_model_module": "@jupyter-widgets/base",
            "top": null,
            "grid_column": null,
            "overflow_y": null,
            "overflow_x": null,
            "grid_auto_flow": null,
            "grid_area": null,
            "grid_template_columns": null,
            "flex": null,
            "_model_name": "LayoutModel",
            "justify_items": null,
            "grid_row": null,
            "max_height": null,
            "align_content": null,
            "visibility": null,
            "align_self": null,
            "height": null,
            "min_height": null,
            "padding": null,
            "grid_auto_rows": null,
            "grid_gap": null,
            "max_width": null,
            "order": null,
            "_view_module_version": "1.2.0",
            "grid_template_areas": null,
            "object_position": null,
            "object_fit": null,
            "grid_auto_columns": null,
            "margin": null,
            "display": null,
            "left": null
          }
        },
        "9cd4b29703d3473486e4cee0c063830c": {
          "model_module": "@jupyter-widgets/controls",
          "model_name": "HTMLModel",
          "model_module_version": "1.5.0",
          "state": {
            "_view_name": "HTMLView",
            "style": "IPY_MODEL_a61b90ecaada40f583ed13ad0a3b9219",
            "_dom_classes": [],
            "description": "",
            "_model_name": "HTMLModel",
            "placeholder": "​",
            "_view_module": "@jupyter-widgets/controls",
            "_model_module_version": "1.5.0",
            "value": "100%",
            "_view_count": null,
            "_view_module_version": "1.5.0",
            "description_tooltip": null,
            "_model_module": "@jupyter-widgets/controls",
            "layout": "IPY_MODEL_754838f8b49f44ddbc5c8c8de7358e23"
          }
        },
        "31967e0b1b8641b08669d8ac43e6373b": {
          "model_module": "@jupyter-widgets/controls",
          "model_name": "FloatProgressModel",
          "model_module_version": "1.5.0",
          "state": {
            "_view_name": "ProgressView",
            "style": "IPY_MODEL_82da77248ec44e8e83e1bd1c80df983f",
            "_dom_classes": [],
            "description": "",
            "_model_name": "FloatProgressModel",
            "bar_style": "success",
            "max": 3,
            "_view_module": "@jupyter-widgets/controls",
            "_model_module_version": "1.5.0",
            "value": 3,
            "_view_count": null,
            "_view_module_version": "1.5.0",
            "orientation": "horizontal",
            "min": 0,
            "description_tooltip": null,
            "_model_module": "@jupyter-widgets/controls",
            "layout": "IPY_MODEL_54f46c6a61c04728827e62e01ffc021a"
          }
        },
        "0546c2c487ce47f1806c3d51db6e6808": {
          "model_module": "@jupyter-widgets/controls",
          "model_name": "HTMLModel",
          "model_module_version": "1.5.0",
          "state": {
            "_view_name": "HTMLView",
            "style": "IPY_MODEL_79c6e631d4cc4a35b84e467061242fdf",
            "_dom_classes": [],
            "description": "",
            "_model_name": "HTMLModel",
            "placeholder": "​",
            "_view_module": "@jupyter-widgets/controls",
            "_model_module_version": "1.5.0",
            "value": " 3/3 [00:00&lt;00:00, 60.93it/s]",
            "_view_count": null,
            "_view_module_version": "1.5.0",
            "description_tooltip": null,
            "_model_module": "@jupyter-widgets/controls",
            "layout": "IPY_MODEL_49d3ebb340f4431eae7bfb9c806334ac"
          }
        },
        "a61b90ecaada40f583ed13ad0a3b9219": {
          "model_module": "@jupyter-widgets/controls",
          "model_name": "DescriptionStyleModel",
          "model_module_version": "1.5.0",
          "state": {
            "_view_name": "StyleView",
            "_model_name": "DescriptionStyleModel",
            "description_width": "",
            "_view_module": "@jupyter-widgets/base",
            "_model_module_version": "1.5.0",
            "_view_count": null,
            "_view_module_version": "1.2.0",
            "_model_module": "@jupyter-widgets/controls"
          }
        },
        "754838f8b49f44ddbc5c8c8de7358e23": {
          "model_module": "@jupyter-widgets/base",
          "model_name": "LayoutModel",
          "model_module_version": "1.2.0",
          "state": {
            "_view_name": "LayoutView",
            "grid_template_rows": null,
            "right": null,
            "justify_content": null,
            "_view_module": "@jupyter-widgets/base",
            "overflow": null,
            "_model_module_version": "1.2.0",
            "_view_count": null,
            "flex_flow": null,
            "width": null,
            "min_width": null,
            "border": null,
            "align_items": null,
            "bottom": null,
            "_model_module": "@jupyter-widgets/base",
            "top": null,
            "grid_column": null,
            "overflow_y": null,
            "overflow_x": null,
            "grid_auto_flow": null,
            "grid_area": null,
            "grid_template_columns": null,
            "flex": null,
            "_model_name": "LayoutModel",
            "justify_items": null,
            "grid_row": null,
            "max_height": null,
            "align_content": null,
            "visibility": null,
            "align_self": null,
            "height": null,
            "min_height": null,
            "padding": null,
            "grid_auto_rows": null,
            "grid_gap": null,
            "max_width": null,
            "order": null,
            "_view_module_version": "1.2.0",
            "grid_template_areas": null,
            "object_position": null,
            "object_fit": null,
            "grid_auto_columns": null,
            "margin": null,
            "display": null,
            "left": null
          }
        },
        "82da77248ec44e8e83e1bd1c80df983f": {
          "model_module": "@jupyter-widgets/controls",
          "model_name": "ProgressStyleModel",
          "model_module_version": "1.5.0",
          "state": {
            "_view_name": "StyleView",
            "_model_name": "ProgressStyleModel",
            "description_width": "",
            "_view_module": "@jupyter-widgets/base",
            "_model_module_version": "1.5.0",
            "_view_count": null,
            "_view_module_version": "1.2.0",
            "bar_color": null,
            "_model_module": "@jupyter-widgets/controls"
          }
        },
        "54f46c6a61c04728827e62e01ffc021a": {
          "model_module": "@jupyter-widgets/base",
          "model_name": "LayoutModel",
          "model_module_version": "1.2.0",
          "state": {
            "_view_name": "LayoutView",
            "grid_template_rows": null,
            "right": null,
            "justify_content": null,
            "_view_module": "@jupyter-widgets/base",
            "overflow": null,
            "_model_module_version": "1.2.0",
            "_view_count": null,
            "flex_flow": null,
            "width": null,
            "min_width": null,
            "border": null,
            "align_items": null,
            "bottom": null,
            "_model_module": "@jupyter-widgets/base",
            "top": null,
            "grid_column": null,
            "overflow_y": null,
            "overflow_x": null,
            "grid_auto_flow": null,
            "grid_area": null,
            "grid_template_columns": null,
            "flex": null,
            "_model_name": "LayoutModel",
            "justify_items": null,
            "grid_row": null,
            "max_height": null,
            "align_content": null,
            "visibility": null,
            "align_self": null,
            "height": null,
            "min_height": null,
            "padding": null,
            "grid_auto_rows": null,
            "grid_gap": null,
            "max_width": null,
            "order": null,
            "_view_module_version": "1.2.0",
            "grid_template_areas": null,
            "object_position": null,
            "object_fit": null,
            "grid_auto_columns": null,
            "margin": null,
            "display": null,
            "left": null
          }
        },
        "79c6e631d4cc4a35b84e467061242fdf": {
          "model_module": "@jupyter-widgets/controls",
          "model_name": "DescriptionStyleModel",
          "model_module_version": "1.5.0",
          "state": {
            "_view_name": "StyleView",
            "_model_name": "DescriptionStyleModel",
            "description_width": "",
            "_view_module": "@jupyter-widgets/base",
            "_model_module_version": "1.5.0",
            "_view_count": null,
            "_view_module_version": "1.2.0",
            "_model_module": "@jupyter-widgets/controls"
          }
        },
        "49d3ebb340f4431eae7bfb9c806334ac": {
          "model_module": "@jupyter-widgets/base",
          "model_name": "LayoutModel",
          "model_module_version": "1.2.0",
          "state": {
            "_view_name": "LayoutView",
            "grid_template_rows": null,
            "right": null,
            "justify_content": null,
            "_view_module": "@jupyter-widgets/base",
            "overflow": null,
            "_model_module_version": "1.2.0",
            "_view_count": null,
            "flex_flow": null,
            "width": null,
            "min_width": null,
            "border": null,
            "align_items": null,
            "bottom": null,
            "_model_module": "@jupyter-widgets/base",
            "top": null,
            "grid_column": null,
            "overflow_y": null,
            "overflow_x": null,
            "grid_auto_flow": null,
            "grid_area": null,
            "grid_template_columns": null,
            "flex": null,
            "_model_name": "LayoutModel",
            "justify_items": null,
            "grid_row": null,
            "max_height": null,
            "align_content": null,
            "visibility": null,
            "align_self": null,
            "height": null,
            "min_height": null,
            "padding": null,
            "grid_auto_rows": null,
            "grid_gap": null,
            "max_width": null,
            "order": null,
            "_view_module_version": "1.2.0",
            "grid_template_areas": null,
            "object_position": null,
            "object_fit": null,
            "grid_auto_columns": null,
            "margin": null,
            "display": null,
            "left": null
          }
        },
        "8de88d9389e9497d86c989ac2bc4f854": {
          "model_module": "@jupyter-widgets/controls",
          "model_name": "HBoxModel",
          "model_module_version": "1.5.0",
          "state": {
            "_view_name": "HBoxView",
            "_dom_classes": [],
            "_model_name": "HBoxModel",
            "_view_module": "@jupyter-widgets/controls",
            "_model_module_version": "1.5.0",
            "_view_count": null,
            "_view_module_version": "1.5.0",
            "box_style": "",
            "layout": "IPY_MODEL_1ee32ed6fdb74099876b6c5a30c86f7e",
            "_model_module": "@jupyter-widgets/controls",
            "children": [
              "IPY_MODEL_aefbc4e8327843c98b8bfc8e6794e8fe",
              "IPY_MODEL_66b6065cfa594962998fc70867d2e4bc",
              "IPY_MODEL_eb337122f4364c859a109794e8a49c27"
            ]
          }
        },
        "1ee32ed6fdb74099876b6c5a30c86f7e": {
          "model_module": "@jupyter-widgets/base",
          "model_name": "LayoutModel",
          "model_module_version": "1.2.0",
          "state": {
            "_view_name": "LayoutView",
            "grid_template_rows": null,
            "right": null,
            "justify_content": null,
            "_view_module": "@jupyter-widgets/base",
            "overflow": null,
            "_model_module_version": "1.2.0",
            "_view_count": null,
            "flex_flow": null,
            "width": null,
            "min_width": null,
            "border": null,
            "align_items": null,
            "bottom": null,
            "_model_module": "@jupyter-widgets/base",
            "top": null,
            "grid_column": null,
            "overflow_y": null,
            "overflow_x": null,
            "grid_auto_flow": null,
            "grid_area": null,
            "grid_template_columns": null,
            "flex": null,
            "_model_name": "LayoutModel",
            "justify_items": null,
            "grid_row": null,
            "max_height": null,
            "align_content": null,
            "visibility": null,
            "align_self": null,
            "height": null,
            "min_height": null,
            "padding": null,
            "grid_auto_rows": null,
            "grid_gap": null,
            "max_width": null,
            "order": null,
            "_view_module_version": "1.2.0",
            "grid_template_areas": null,
            "object_position": null,
            "object_fit": null,
            "grid_auto_columns": null,
            "margin": null,
            "display": null,
            "left": null
          }
        },
        "aefbc4e8327843c98b8bfc8e6794e8fe": {
          "model_module": "@jupyter-widgets/controls",
          "model_name": "HTMLModel",
          "model_module_version": "1.5.0",
          "state": {
            "_view_name": "HTMLView",
            "style": "IPY_MODEL_3678ed005db44299967d35edae6303ed",
            "_dom_classes": [],
            "description": "",
            "_model_name": "HTMLModel",
            "placeholder": "​",
            "_view_module": "@jupyter-widgets/controls",
            "_model_module_version": "1.5.0",
            "value": "",
            "_view_count": null,
            "_view_module_version": "1.5.0",
            "description_tooltip": null,
            "_model_module": "@jupyter-widgets/controls",
            "layout": "IPY_MODEL_5c3ff0f76bab42f9a89e0645cee8f2b9"
          }
        },
        "66b6065cfa594962998fc70867d2e4bc": {
          "model_module": "@jupyter-widgets/controls",
          "model_name": "FloatProgressModel",
          "model_module_version": "1.5.0",
          "state": {
            "_view_name": "ProgressView",
            "style": "IPY_MODEL_482b28ccd9ec4c91bd0977b7468b0422",
            "_dom_classes": [],
            "description": "",
            "_model_name": "FloatProgressModel",
            "bar_style": "success",
            "max": 150,
            "_view_module": "@jupyter-widgets/controls",
            "_model_module_version": "1.5.0",
            "value": 150,
            "_view_count": null,
            "_view_module_version": "1.5.0",
            "orientation": "horizontal",
            "min": 0,
            "description_tooltip": null,
            "_model_module": "@jupyter-widgets/controls",
            "layout": "IPY_MODEL_ec7b7ac36faf48498761de8b13618613"
          }
        },
        "eb337122f4364c859a109794e8a49c27": {
          "model_module": "@jupyter-widgets/controls",
          "model_name": "HTMLModel",
          "model_module_version": "1.5.0",
          "state": {
            "_view_name": "HTMLView",
            "style": "IPY_MODEL_fd8d5a88d0bc45c6a9e1555895776434",
            "_dom_classes": [],
            "description": "",
            "_model_name": "HTMLModel",
            "placeholder": "​",
            "_view_module": "@jupyter-widgets/controls",
            "_model_module_version": "1.5.0",
            "value": "Epoch 0: 100%|██████████| 150/150 [03:13&lt;00:00,  1.29s/it, loss/train=0.6819]",
            "_view_count": null,
            "_view_module_version": "1.5.0",
            "description_tooltip": null,
            "_model_module": "@jupyter-widgets/controls",
            "layout": "IPY_MODEL_0fc2b226b98c49e68e118a3724ab81b8"
          }
        },
        "3678ed005db44299967d35edae6303ed": {
          "model_module": "@jupyter-widgets/controls",
          "model_name": "DescriptionStyleModel",
          "model_module_version": "1.5.0",
          "state": {
            "_view_name": "StyleView",
            "_model_name": "DescriptionStyleModel",
            "description_width": "",
            "_view_module": "@jupyter-widgets/base",
            "_model_module_version": "1.5.0",
            "_view_count": null,
            "_view_module_version": "1.2.0",
            "_model_module": "@jupyter-widgets/controls"
          }
        },
        "5c3ff0f76bab42f9a89e0645cee8f2b9": {
          "model_module": "@jupyter-widgets/base",
          "model_name": "LayoutModel",
          "model_module_version": "1.2.0",
          "state": {
            "_view_name": "LayoutView",
            "grid_template_rows": null,
            "right": null,
            "justify_content": null,
            "_view_module": "@jupyter-widgets/base",
            "overflow": null,
            "_model_module_version": "1.2.0",
            "_view_count": null,
            "flex_flow": null,
            "width": null,
            "min_width": null,
            "border": null,
            "align_items": null,
            "bottom": null,
            "_model_module": "@jupyter-widgets/base",
            "top": null,
            "grid_column": null,
            "overflow_y": null,
            "overflow_x": null,
            "grid_auto_flow": null,
            "grid_area": null,
            "grid_template_columns": null,
            "flex": null,
            "_model_name": "LayoutModel",
            "justify_items": null,
            "grid_row": null,
            "max_height": null,
            "align_content": null,
            "visibility": null,
            "align_self": null,
            "height": null,
            "min_height": null,
            "padding": null,
            "grid_auto_rows": null,
            "grid_gap": null,
            "max_width": null,
            "order": null,
            "_view_module_version": "1.2.0",
            "grid_template_areas": null,
            "object_position": null,
            "object_fit": null,
            "grid_auto_columns": null,
            "margin": null,
            "display": null,
            "left": null
          }
        },
        "482b28ccd9ec4c91bd0977b7468b0422": {
          "model_module": "@jupyter-widgets/controls",
          "model_name": "ProgressStyleModel",
          "model_module_version": "1.5.0",
          "state": {
            "_view_name": "StyleView",
            "_model_name": "ProgressStyleModel",
            "description_width": "",
            "_view_module": "@jupyter-widgets/base",
            "_model_module_version": "1.5.0",
            "_view_count": null,
            "_view_module_version": "1.2.0",
            "bar_color": null,
            "_model_module": "@jupyter-widgets/controls"
          }
        },
        "ec7b7ac36faf48498761de8b13618613": {
          "model_module": "@jupyter-widgets/base",
          "model_name": "LayoutModel",
          "model_module_version": "1.2.0",
          "state": {
            "_view_name": "LayoutView",
            "grid_template_rows": null,
            "right": null,
            "justify_content": null,
            "_view_module": "@jupyter-widgets/base",
            "overflow": null,
            "_model_module_version": "1.2.0",
            "_view_count": null,
            "flex_flow": null,
            "width": null,
            "min_width": null,
            "border": null,
            "align_items": null,
            "bottom": null,
            "_model_module": "@jupyter-widgets/base",
            "top": null,
            "grid_column": null,
            "overflow_y": null,
            "overflow_x": null,
            "grid_auto_flow": null,
            "grid_area": null,
            "grid_template_columns": null,
            "flex": null,
            "_model_name": "LayoutModel",
            "justify_items": null,
            "grid_row": null,
            "max_height": null,
            "align_content": null,
            "visibility": null,
            "align_self": null,
            "height": null,
            "min_height": null,
            "padding": null,
            "grid_auto_rows": null,
            "grid_gap": null,
            "max_width": null,
            "order": null,
            "_view_module_version": "1.2.0",
            "grid_template_areas": null,
            "object_position": null,
            "object_fit": null,
            "grid_auto_columns": null,
            "margin": null,
            "display": null,
            "left": null
          }
        },
        "fd8d5a88d0bc45c6a9e1555895776434": {
          "model_module": "@jupyter-widgets/controls",
          "model_name": "DescriptionStyleModel",
          "model_module_version": "1.5.0",
          "state": {
            "_view_name": "StyleView",
            "_model_name": "DescriptionStyleModel",
            "description_width": "",
            "_view_module": "@jupyter-widgets/base",
            "_model_module_version": "1.5.0",
            "_view_count": null,
            "_view_module_version": "1.2.0",
            "_model_module": "@jupyter-widgets/controls"
          }
        },
        "0fc2b226b98c49e68e118a3724ab81b8": {
          "model_module": "@jupyter-widgets/base",
          "model_name": "LayoutModel",
          "model_module_version": "1.2.0",
          "state": {
            "_view_name": "LayoutView",
            "grid_template_rows": null,
            "right": null,
            "justify_content": null,
            "_view_module": "@jupyter-widgets/base",
            "overflow": null,
            "_model_module_version": "1.2.0",
            "_view_count": null,
            "flex_flow": null,
            "width": null,
            "min_width": null,
            "border": null,
            "align_items": null,
            "bottom": null,
            "_model_module": "@jupyter-widgets/base",
            "top": null,
            "grid_column": null,
            "overflow_y": null,
            "overflow_x": null,
            "grid_auto_flow": null,
            "grid_area": null,
            "grid_template_columns": null,
            "flex": null,
            "_model_name": "LayoutModel",
            "justify_items": null,
            "grid_row": null,
            "max_height": null,
            "align_content": null,
            "visibility": null,
            "align_self": null,
            "height": null,
            "min_height": null,
            "padding": null,
            "grid_auto_rows": null,
            "grid_gap": null,
            "max_width": null,
            "order": null,
            "_view_module_version": "1.2.0",
            "grid_template_areas": null,
            "object_position": null,
            "object_fit": null,
            "grid_auto_columns": null,
            "margin": null,
            "display": null,
            "left": null
          }
        },
        "301f5339f13b4d9eabecf3805763129c": {
          "model_module": "@jupyter-widgets/controls",
          "model_name": "HBoxModel",
          "model_module_version": "1.5.0",
          "state": {
            "_view_name": "HBoxView",
            "_dom_classes": [],
            "_model_name": "HBoxModel",
            "_view_module": "@jupyter-widgets/controls",
            "_model_module_version": "1.5.0",
            "_view_count": null,
            "_view_module_version": "1.5.0",
            "box_style": "",
            "layout": "IPY_MODEL_4c3f9cd90f3e4fe09b5855a452b13896",
            "_model_module": "@jupyter-widgets/controls",
            "children": [
              "IPY_MODEL_52257a74e6714a9db8a43cc0b3cb5e00",
              "IPY_MODEL_8057ef5ab8ca4c2c97620214b9664467",
              "IPY_MODEL_0b5fd8ab54e54f9f910214c1984e7c8d"
            ]
          }
        },
        "4c3f9cd90f3e4fe09b5855a452b13896": {
          "model_module": "@jupyter-widgets/base",
          "model_name": "LayoutModel",
          "model_module_version": "1.2.0",
          "state": {
            "_view_name": "LayoutView",
            "grid_template_rows": null,
            "right": null,
            "justify_content": null,
            "_view_module": "@jupyter-widgets/base",
            "overflow": null,
            "_model_module_version": "1.2.0",
            "_view_count": null,
            "flex_flow": null,
            "width": null,
            "min_width": null,
            "border": null,
            "align_items": null,
            "bottom": null,
            "_model_module": "@jupyter-widgets/base",
            "top": null,
            "grid_column": null,
            "overflow_y": null,
            "overflow_x": null,
            "grid_auto_flow": null,
            "grid_area": null,
            "grid_template_columns": null,
            "flex": null,
            "_model_name": "LayoutModel",
            "justify_items": null,
            "grid_row": null,
            "max_height": null,
            "align_content": null,
            "visibility": null,
            "align_self": null,
            "height": null,
            "min_height": null,
            "padding": null,
            "grid_auto_rows": null,
            "grid_gap": null,
            "max_width": null,
            "order": null,
            "_view_module_version": "1.2.0",
            "grid_template_areas": null,
            "object_position": null,
            "object_fit": null,
            "grid_auto_columns": null,
            "margin": null,
            "display": null,
            "left": null
          }
        },
        "52257a74e6714a9db8a43cc0b3cb5e00": {
          "model_module": "@jupyter-widgets/controls",
          "model_name": "HTMLModel",
          "model_module_version": "1.5.0",
          "state": {
            "_view_name": "HTMLView",
            "style": "IPY_MODEL_7d77bdac3de944c3a4a45c271c7234ab",
            "_dom_classes": [],
            "description": "",
            "_model_name": "HTMLModel",
            "placeholder": "​",
            "_view_module": "@jupyter-widgets/controls",
            "_model_module_version": "1.5.0",
            "value": "",
            "_view_count": null,
            "_view_module_version": "1.5.0",
            "description_tooltip": null,
            "_model_module": "@jupyter-widgets/controls",
            "layout": "IPY_MODEL_fb3e05d9cd4b428382170dcb517dd1c8"
          }
        },
        "8057ef5ab8ca4c2c97620214b9664467": {
          "model_module": "@jupyter-widgets/controls",
          "model_name": "FloatProgressModel",
          "model_module_version": "1.5.0",
          "state": {
            "_view_name": "ProgressView",
            "style": "IPY_MODEL_fc4795f5118e4abd82e91efb68019fe0",
            "_dom_classes": [],
            "description": "",
            "_model_name": "FloatProgressModel",
            "bar_style": "",
            "max": 55,
            "_view_module": "@jupyter-widgets/controls",
            "_model_module_version": "1.5.0",
            "value": 28,
            "_view_count": null,
            "_view_module_version": "1.5.0",
            "orientation": "horizontal",
            "min": 0,
            "description_tooltip": null,
            "_model_module": "@jupyter-widgets/controls",
            "layout": "IPY_MODEL_a9f911f749784d23925ef90020b2184f"
          }
        },
        "0b5fd8ab54e54f9f910214c1984e7c8d": {
          "model_module": "@jupyter-widgets/controls",
          "model_name": "HTMLModel",
          "model_module_version": "1.5.0",
          "state": {
            "_view_name": "HTMLView",
            "style": "IPY_MODEL_39a8f60f0b7a431a9dfde437fdebd20b",
            "_dom_classes": [],
            "description": "",
            "_model_name": "HTMLModel",
            "placeholder": "​",
            "_view_module": "@jupyter-widgets/controls",
            "_model_module_version": "1.5.0",
            "value": "Epoch 1, Batch 150 (val):  51%|█████     | 28/55 [00:13&lt;00:12,  2.12it/s]",
            "_view_count": null,
            "_view_module_version": "1.5.0",
            "description_tooltip": null,
            "_model_module": "@jupyter-widgets/controls",
            "layout": "IPY_MODEL_c26c201f6f084b14975158fe818c71f6"
          }
        },
        "7d77bdac3de944c3a4a45c271c7234ab": {
          "model_module": "@jupyter-widgets/controls",
          "model_name": "DescriptionStyleModel",
          "model_module_version": "1.5.0",
          "state": {
            "_view_name": "StyleView",
            "_model_name": "DescriptionStyleModel",
            "description_width": "",
            "_view_module": "@jupyter-widgets/base",
            "_model_module_version": "1.5.0",
            "_view_count": null,
            "_view_module_version": "1.2.0",
            "_model_module": "@jupyter-widgets/controls"
          }
        },
        "fb3e05d9cd4b428382170dcb517dd1c8": {
          "model_module": "@jupyter-widgets/base",
          "model_name": "LayoutModel",
          "model_module_version": "1.2.0",
          "state": {
            "_view_name": "LayoutView",
            "grid_template_rows": null,
            "right": null,
            "justify_content": null,
            "_view_module": "@jupyter-widgets/base",
            "overflow": null,
            "_model_module_version": "1.2.0",
            "_view_count": null,
            "flex_flow": null,
            "width": null,
            "min_width": null,
            "border": null,
            "align_items": null,
            "bottom": null,
            "_model_module": "@jupyter-widgets/base",
            "top": null,
            "grid_column": null,
            "overflow_y": null,
            "overflow_x": null,
            "grid_auto_flow": null,
            "grid_area": null,
            "grid_template_columns": null,
            "flex": null,
            "_model_name": "LayoutModel",
            "justify_items": null,
            "grid_row": null,
            "max_height": null,
            "align_content": null,
            "visibility": null,
            "align_self": null,
            "height": null,
            "min_height": null,
            "padding": null,
            "grid_auto_rows": null,
            "grid_gap": null,
            "max_width": null,
            "order": null,
            "_view_module_version": "1.2.0",
            "grid_template_areas": null,
            "object_position": null,
            "object_fit": null,
            "grid_auto_columns": null,
            "margin": null,
            "display": null,
            "left": null
          }
        },
        "fc4795f5118e4abd82e91efb68019fe0": {
          "model_module": "@jupyter-widgets/controls",
          "model_name": "ProgressStyleModel",
          "model_module_version": "1.5.0",
          "state": {
            "_view_name": "StyleView",
            "_model_name": "ProgressStyleModel",
            "description_width": "",
            "_view_module": "@jupyter-widgets/base",
            "_model_module_version": "1.5.0",
            "_view_count": null,
            "_view_module_version": "1.2.0",
            "bar_color": null,
            "_model_module": "@jupyter-widgets/controls"
          }
        },
        "a9f911f749784d23925ef90020b2184f": {
          "model_module": "@jupyter-widgets/base",
          "model_name": "LayoutModel",
          "model_module_version": "1.2.0",
          "state": {
            "_view_name": "LayoutView",
            "grid_template_rows": null,
            "right": null,
            "justify_content": null,
            "_view_module": "@jupyter-widgets/base",
            "overflow": null,
            "_model_module_version": "1.2.0",
            "_view_count": null,
            "flex_flow": null,
            "width": null,
            "min_width": null,
            "border": null,
            "align_items": null,
            "bottom": null,
            "_model_module": "@jupyter-widgets/base",
            "top": null,
            "grid_column": null,
            "overflow_y": null,
            "overflow_x": null,
            "grid_auto_flow": null,
            "grid_area": null,
            "grid_template_columns": null,
            "flex": null,
            "_model_name": "LayoutModel",
            "justify_items": null,
            "grid_row": null,
            "max_height": null,
            "align_content": null,
            "visibility": null,
            "align_self": null,
            "height": null,
            "min_height": null,
            "padding": null,
            "grid_auto_rows": null,
            "grid_gap": null,
            "max_width": null,
            "order": null,
            "_view_module_version": "1.2.0",
            "grid_template_areas": null,
            "object_position": null,
            "object_fit": null,
            "grid_auto_columns": null,
            "margin": null,
            "display": null,
            "left": null
          }
        },
        "39a8f60f0b7a431a9dfde437fdebd20b": {
          "model_module": "@jupyter-widgets/controls",
          "model_name": "DescriptionStyleModel",
          "model_module_version": "1.5.0",
          "state": {
            "_view_name": "StyleView",
            "_model_name": "DescriptionStyleModel",
            "description_width": "",
            "_view_module": "@jupyter-widgets/base",
            "_model_module_version": "1.5.0",
            "_view_count": null,
            "_view_module_version": "1.2.0",
            "_model_module": "@jupyter-widgets/controls"
          }
        },
        "c26c201f6f084b14975158fe818c71f6": {
          "model_module": "@jupyter-widgets/base",
          "model_name": "LayoutModel",
          "model_module_version": "1.2.0",
          "state": {
            "_view_name": "LayoutView",
            "grid_template_rows": null,
            "right": null,
            "justify_content": null,
            "_view_module": "@jupyter-widgets/base",
            "overflow": null,
            "_model_module_version": "1.2.0",
            "_view_count": null,
            "flex_flow": null,
            "width": null,
            "min_width": null,
            "border": null,
            "align_items": null,
            "bottom": null,
            "_model_module": "@jupyter-widgets/base",
            "top": null,
            "grid_column": null,
            "overflow_y": null,
            "overflow_x": null,
            "grid_auto_flow": null,
            "grid_area": null,
            "grid_template_columns": null,
            "flex": null,
            "_model_name": "LayoutModel",
            "justify_items": null,
            "grid_row": null,
            "max_height": null,
            "align_content": null,
            "visibility": null,
            "align_self": null,
            "height": null,
            "min_height": null,
            "padding": null,
            "grid_auto_rows": null,
            "grid_gap": null,
            "max_width": null,
            "order": null,
            "_view_module_version": "1.2.0",
            "grid_template_areas": null,
            "object_position": null,
            "object_fit": null,
            "grid_auto_columns": null,
            "margin": null,
            "display": null,
            "left": null
          }
        }
      }
    }
  },
  "cells": [
    {
      "cell_type": "code",
      "execution_count": 10,
      "metadata": {
        "colab": {
          "base_uri": "https://localhost:8080/"
        },
        "id": "VutAsXaoVvjH",
        "outputId": "c8cec917-ce9d-413e-faaf-8f78b2de6d83"
      },
      "outputs": [
        {
          "output_type": "stream",
          "name": "stdout",
          "text": [
            "Requirement already satisfied: transformers in /usr/local/lib/python3.7/dist-packages (4.16.2)\n",
            "Requirement already satisfied: datasets in /usr/local/lib/python3.7/dist-packages (1.18.3)\n",
            "Requirement already satisfied: requests in /usr/local/lib/python3.7/dist-packages (from transformers) (2.27.1)\n",
            "Requirement already satisfied: pyyaml>=5.1 in /usr/local/lib/python3.7/dist-packages (from transformers) (6.0)\n",
            "Requirement already satisfied: tqdm>=4.27 in /usr/local/lib/python3.7/dist-packages (from transformers) (4.62.3)\n",
            "Requirement already satisfied: huggingface-hub<1.0,>=0.1.0 in /usr/local/lib/python3.7/dist-packages (from transformers) (0.4.0)\n",
            "Requirement already satisfied: importlib-metadata in /usr/local/lib/python3.7/dist-packages (from transformers) (4.10.1)\n",
            "Requirement already satisfied: filelock in /usr/local/lib/python3.7/dist-packages (from transformers) (3.4.2)\n",
            "Requirement already satisfied: regex!=2019.12.17 in /usr/local/lib/python3.7/dist-packages (from transformers) (2019.12.20)\n",
            "Requirement already satisfied: numpy>=1.17 in /usr/local/lib/python3.7/dist-packages (from transformers) (1.21.5)\n",
            "Requirement already satisfied: packaging>=20.0 in /usr/local/lib/python3.7/dist-packages (from transformers) (21.3)\n",
            "Requirement already satisfied: tokenizers!=0.11.3,>=0.10.1 in /usr/local/lib/python3.7/dist-packages (from transformers) (0.11.4)\n",
            "Requirement already satisfied: sacremoses in /usr/local/lib/python3.7/dist-packages (from transformers) (0.0.47)\n",
            "Requirement already satisfied: typing-extensions>=3.7.4.3 in /usr/local/lib/python3.7/dist-packages (from huggingface-hub<1.0,>=0.1.0->transformers) (3.10.0.2)\n",
            "Requirement already satisfied: pyparsing!=3.0.5,>=2.0.2 in /usr/local/lib/python3.7/dist-packages (from packaging>=20.0->transformers) (3.0.7)\n",
            "Requirement already satisfied: fsspec[http]>=2021.05.0 in /usr/local/lib/python3.7/dist-packages (from datasets) (2022.1.0)\n",
            "Requirement already satisfied: multiprocess in /usr/local/lib/python3.7/dist-packages (from datasets) (0.70.12.2)\n",
            "Requirement already satisfied: aiohttp in /usr/local/lib/python3.7/dist-packages (from datasets) (3.8.1)\n",
            "Requirement already satisfied: pyarrow!=4.0.0,>=3.0.0 in /usr/local/lib/python3.7/dist-packages (from datasets) (3.0.0)\n",
            "Requirement already satisfied: xxhash in /usr/local/lib/python3.7/dist-packages (from datasets) (2.0.2)\n",
            "Requirement already satisfied: pandas in /usr/local/lib/python3.7/dist-packages (from datasets) (1.3.5)\n",
            "Requirement already satisfied: dill in /usr/local/lib/python3.7/dist-packages (from datasets) (0.3.4)\n",
            "Requirement already satisfied: charset-normalizer~=2.0.0 in /usr/local/lib/python3.7/dist-packages (from requests->transformers) (2.0.11)\n",
            "Requirement already satisfied: urllib3<1.27,>=1.21.1 in /usr/local/lib/python3.7/dist-packages (from requests->transformers) (1.24.3)\n",
            "Requirement already satisfied: idna<4,>=2.5 in /usr/local/lib/python3.7/dist-packages (from requests->transformers) (2.10)\n",
            "Requirement already satisfied: certifi>=2017.4.17 in /usr/local/lib/python3.7/dist-packages (from requests->transformers) (2021.10.8)\n",
            "Requirement already satisfied: attrs>=17.3.0 in /usr/local/lib/python3.7/dist-packages (from aiohttp->datasets) (21.4.0)\n",
            "Requirement already satisfied: async-timeout<5.0,>=4.0.0a3 in /usr/local/lib/python3.7/dist-packages (from aiohttp->datasets) (4.0.2)\n",
            "Requirement already satisfied: frozenlist>=1.1.1 in /usr/local/lib/python3.7/dist-packages (from aiohttp->datasets) (1.3.0)\n",
            "Requirement already satisfied: asynctest==0.13.0 in /usr/local/lib/python3.7/dist-packages (from aiohttp->datasets) (0.13.0)\n",
            "Requirement already satisfied: multidict<7.0,>=4.5 in /usr/local/lib/python3.7/dist-packages (from aiohttp->datasets) (6.0.2)\n",
            "Requirement already satisfied: aiosignal>=1.1.2 in /usr/local/lib/python3.7/dist-packages (from aiohttp->datasets) (1.2.0)\n",
            "Requirement already satisfied: yarl<2.0,>=1.0 in /usr/local/lib/python3.7/dist-packages (from aiohttp->datasets) (1.7.2)\n",
            "Requirement already satisfied: zipp>=0.5 in /usr/local/lib/python3.7/dist-packages (from importlib-metadata->transformers) (3.7.0)\n",
            "Requirement already satisfied: python-dateutil>=2.7.3 in /usr/local/lib/python3.7/dist-packages (from pandas->datasets) (2.8.2)\n",
            "Requirement already satisfied: pytz>=2017.3 in /usr/local/lib/python3.7/dist-packages (from pandas->datasets) (2018.9)\n",
            "Requirement already satisfied: six>=1.5 in /usr/local/lib/python3.7/dist-packages (from python-dateutil>=2.7.3->pandas->datasets) (1.15.0)\n",
            "Requirement already satisfied: click in /usr/local/lib/python3.7/dist-packages (from sacremoses->transformers) (7.1.2)\n",
            "Requirement already satisfied: joblib in /usr/local/lib/python3.7/dist-packages (from sacremoses->transformers) (1.1.0)\n",
            "Collecting git+https://github.com/mosaicml/composer.git@dev\n",
            "  Cloning https://github.com/mosaicml/composer.git (to revision dev) to /tmp/pip-req-build-1036nvll\n",
            "  Running command git clone -q https://github.com/mosaicml/composer.git /tmp/pip-req-build-1036nvll\n",
            "  Installing build dependencies ... \u001b[?25l\u001b[?25hdone\n",
            "  Getting requirements to build wheel ... \u001b[?25l\u001b[?25hdone\n",
            "    Preparing wheel metadata ... \u001b[?25l\u001b[?25hdone\n",
            "Requirement already satisfied: requests>=2.26.0 in /usr/local/lib/python3.7/dist-packages (from mosaicml==0.3.1) (2.27.1)\n",
            "Requirement already satisfied: torchmetrics>=0.6.0 in /usr/local/lib/python3.7/dist-packages (from mosaicml==0.3.1) (0.7.0)\n",
            "Requirement already satisfied: pyyaml>=5.4.1 in /usr/local/lib/python3.7/dist-packages (from mosaicml==0.3.1) (6.0)\n",
            "Requirement already satisfied: tqdm>=4.62.3 in /usr/local/lib/python3.7/dist-packages (from mosaicml==0.3.1) (4.62.3)\n",
            "Requirement already satisfied: torchvision>=0.9.0 in /usr/local/lib/python3.7/dist-packages (from mosaicml==0.3.1) (0.11.1+cu111)\n",
            "Requirement already satisfied: numpy==1.21.5 in /usr/local/lib/python3.7/dist-packages (from mosaicml==0.3.1) (1.21.5)\n",
            "Requirement already satisfied: torch>=1.9 in /usr/local/lib/python3.7/dist-packages (from mosaicml==0.3.1) (1.10.0+cu111)\n",
            "Requirement already satisfied: yahp>=0.0.14 in /usr/local/lib/python3.7/dist-packages (from mosaicml==0.3.1) (0.0.14)\n",
            "Requirement already satisfied: torch-optimizer==0.1.0 in /usr/local/lib/python3.7/dist-packages (from mosaicml==0.3.1) (0.1.0)\n",
            "Requirement already satisfied: pytorch-ranger>=0.1.1 in /usr/local/lib/python3.7/dist-packages (from torch-optimizer==0.1.0->mosaicml==0.3.1) (0.1.1)\n",
            "Requirement already satisfied: certifi>=2017.4.17 in /usr/local/lib/python3.7/dist-packages (from requests>=2.26.0->mosaicml==0.3.1) (2021.10.8)\n",
            "Requirement already satisfied: charset-normalizer~=2.0.0 in /usr/local/lib/python3.7/dist-packages (from requests>=2.26.0->mosaicml==0.3.1) (2.0.11)\n",
            "Requirement already satisfied: urllib3<1.27,>=1.21.1 in /usr/local/lib/python3.7/dist-packages (from requests>=2.26.0->mosaicml==0.3.1) (1.24.3)\n",
            "Requirement already satisfied: idna<4,>=2.5 in /usr/local/lib/python3.7/dist-packages (from requests>=2.26.0->mosaicml==0.3.1) (2.10)\n",
            "Requirement already satisfied: typing-extensions in /usr/local/lib/python3.7/dist-packages (from torch>=1.9->mosaicml==0.3.1) (3.10.0.2)\n",
            "Requirement already satisfied: packaging in /usr/local/lib/python3.7/dist-packages (from torchmetrics>=0.6.0->mosaicml==0.3.1) (21.3)\n",
            "Requirement already satisfied: pyDeprecate==0.3.* in /usr/local/lib/python3.7/dist-packages (from torchmetrics>=0.6.0->mosaicml==0.3.1) (0.3.2)\n",
            "Requirement already satisfied: pillow!=8.3.0,>=5.3.0 in /usr/local/lib/python3.7/dist-packages (from torchvision>=0.9.0->mosaicml==0.3.1) (7.1.2)\n",
            "Requirement already satisfied: ruamel.yaml>=0.17.10 in /usr/local/lib/python3.7/dist-packages (from yahp>=0.0.14->mosaicml==0.3.1) (0.17.20)\n",
            "Requirement already satisfied: ruamel.yaml.clib>=0.2.6 in /usr/local/lib/python3.7/dist-packages (from ruamel.yaml>=0.17.10->yahp>=0.0.14->mosaicml==0.3.1) (0.2.6)\n",
            "Requirement already satisfied: pyparsing!=3.0.5,>=2.0.2 in /usr/local/lib/python3.7/dist-packages (from packaging->torchmetrics>=0.6.0->mosaicml==0.3.1) (3.0.7)\n"
          ]
        }
      ],
      "source": [
        "# Install HuggingFace transformers and datasets\n",
        "!pip install transformers datasets\n",
        "\n",
        "# Install composer\n",
        "# !pip install mosaicml\n",
        "# To install from source instead of the last release, use the below command instead:\n",
        "!pip install git+https://github.com/mosaicml/composer.git@dev"
      ]
    },
    {
      "cell_type": "markdown",
      "source": [
        "# Introduction"
      ],
      "metadata": {
        "id": "iCTYz0gLNPOc"
      }
    },
    {
      "cell_type": "markdown",
      "source": [
        "This tutorial will demonstrate how to fine-tune a pretrained HuggingFace transformer using the composer library! Composer provides a highly optimized and functional training loop and the ability to compose several methods that can accelerate training.\n",
        "\n",
        "We will focus on fine-tuning a pretrained BERT-base model on the Stanford Sentiment Treebank v2 (SST-2) dataset. After fine-tuning, the BERT model should be able to determine if a setence has positive or negative sentiment.\n",
        "\n",
        "Let's do this 🚀"
      ],
      "metadata": {
        "id": "IompLzNN4pu9"
      }
    },
    {
      "cell_type": "markdown",
      "source": [
        "# Defining a Composer Model "
      ],
      "metadata": {
        "id": "v_psvpK4-km9"
      }
    },
    {
      "cell_type": "markdown",
      "source": [
        "The first task is to create a composer model. A composer model defines four components for the composer trainer:\n",
        "- `forward()` - parses the dataloader output for the model's forward function and extracts the necessary components of the model's output for loss calculation.\n",
        "- `loss()` - computes the loss for the current batch using the model and dataloader outputs.\n",
        "- `validate()` - parses the dataloader and model output for the torchmetrics.\n",
        "- `metrics()` - defines the torchmetrics to use during training/validation."
      ],
      "metadata": {
        "id": "UJehTwuirpQa"
      }
    },
    {
      "cell_type": "code",
      "source": [
        "import transformers\n",
        "from torchmetrics import Accuracy\n",
        "from torchmetrics.collections import MetricCollection\n",
        "from composer.models.base import ComposerModel\n",
        "from composer.models.nlp_metrics import LanguageCrossEntropyLoss\n",
        "\n",
        "# Define a Composer Model\n",
        "class ComposerBERT(ComposerModel):\n",
        "  def __init__(self, model):\n",
        "    super().__init__()\n",
        "    self.module = model\n",
        "\n",
        "    # Metrics\n",
        "    self.train_loss = LanguageCrossEntropyLoss()\n",
        "    self.val_loss = LanguageCrossEntropyLoss()\n",
        "\n",
        "    self.train_acc = Accuracy()\n",
        "    self.val_acc = Accuracy()\n",
        "\n",
        "  def forward(self, batch):\n",
        "    output = self.module(**batch)\n",
        "    return output\n",
        "\n",
        "  def loss(self, outputs, batch):\n",
        "    return outputs['loss']\n",
        "\n",
        "  def validate(self, batch):\n",
        "    labels = batch.pop('labels')\n",
        "    output = self.forward(batch)\n",
        "    output = output['logits']\n",
        "\n",
        "    return (output, labels)\n",
        "  \n",
        "  def metrics(self, train: bool = False):\n",
        "    return MetricCollection([self.train_loss, self.train_acc]) if train else MetricCollection([self.val_loss, self.val_acc])\n",
        "\n",
        "# Create a BERT sequence classification model using HuggingFace transformsers\n",
        "model = transformers.AutoModelForSequenceClassification.from_pretrained('bert-base-uncased', num_labels=2) # in BERT hparams\n",
        "\n",
        "# Package as a composer model\n",
        "composer_model = ComposerBERT(model)"
      ],
      "metadata": {
        "id": "kAsTKWfknAyB",
        "colab": {
          "base_uri": "https://localhost:8080/"
        },
        "outputId": "9cbfed22-72eb-4021-a59f-a048aacc953b"
      },
      "execution_count": 41,
      "outputs": [
        {
          "output_type": "stream",
          "name": "stderr",
          "text": [
            "Some weights of the model checkpoint at bert-base-uncased were not used when initializing BertForSequenceClassification: ['cls.predictions.bias', 'cls.predictions.transform.dense.weight', 'cls.seq_relationship.weight', 'cls.predictions.transform.LayerNorm.bias', 'cls.seq_relationship.bias', 'cls.predictions.decoder.weight', 'cls.predictions.transform.dense.bias', 'cls.predictions.transform.LayerNorm.weight']\n",
            "- This IS expected if you are initializing BertForSequenceClassification from the checkpoint of a model trained on another task or with another architecture (e.g. initializing a BertForSequenceClassification model from a BertForPreTraining model).\n",
            "- This IS NOT expected if you are initializing BertForSequenceClassification from the checkpoint of a model that you expect to be exactly identical (initializing a BertForSequenceClassification model from a BertForSequenceClassification model).\n",
            "Some weights of BertForSequenceClassification were not initialized from the model checkpoint at bert-base-uncased and are newly initialized: ['classifier.weight', 'classifier.bias']\n",
            "You should probably TRAIN this model on a down-stream task to be able to use it for predictions and inference.\n"
          ]
        }
      ]
    },
    {
      "cell_type": "markdown",
      "source": [
        "# Creating dataloaders"
      ],
      "metadata": {
        "id": "xtfy9TzC6CAX"
      }
    },
    {
      "cell_type": "markdown",
      "source": [
        "Next, we will download and tokenize the SST-2 datasets. "
      ],
      "metadata": {
        "id": "vpsHvZXfAl9N"
      }
    },
    {
      "cell_type": "code",
      "source": [
        "import datasets\n",
        "from multiprocessing import cpu_count\n",
        "\n",
        "# Create BERT tokenizer\n",
        "tokenizer = transformers.AutoTokenizer.from_pretrained('bert-base-uncased') # from transformer_shared\n",
        "def tokenize_function(sample):\n",
        "  return tokenizer(text=sample['sentence'], padding=\"max_length\", max_length=256, truncation=True)\n",
        "\n",
        "# Tokenize SST-2\n",
        "sst2_dataset = datasets.load_dataset(\"glue\", \"sst2\")\n",
        "tokenized_sst2_dataset = sst2_dataset.map(tokenize_function,\n",
        "                                          batched=True, \n",
        "                                          num_proc=cpu_count(),\n",
        "                                          batch_size=1000,\n",
        "                                          remove_columns=['idx', 'sentence'])\n",
        "\n",
        "# Split dataset into train and validation sets\n",
        "train_dataset = tokenized_sst2_dataset[\"train\"]\n",
        "eval_dataset = tokenized_sst2_dataset[\"validation\"]"
      ],
      "metadata": {
        "colab": {
          "base_uri": "https://localhost:8080/",
          "height": 173,
          "referenced_widgets": [
            "e9a2c767ad844bc486277e0f20f5ef90",
            "5302bd1663894d7583db88e2ed8742c0",
            "9cd4b29703d3473486e4cee0c063830c",
            "31967e0b1b8641b08669d8ac43e6373b",
            "0546c2c487ce47f1806c3d51db6e6808",
            "a61b90ecaada40f583ed13ad0a3b9219",
            "754838f8b49f44ddbc5c8c8de7358e23",
            "82da77248ec44e8e83e1bd1c80df983f",
            "54f46c6a61c04728827e62e01ffc021a",
            "79c6e631d4cc4a35b84e467061242fdf",
            "49d3ebb340f4431eae7bfb9c806334ac"
          ]
        },
        "id": "BneG48b45jyI",
        "outputId": "ddb62c3b-3418-48be-f4ee-daa505ca04bd"
      },
      "execution_count": 12,
      "outputs": [
        {
          "output_type": "stream",
          "name": "stderr",
          "text": [
            "Reusing dataset glue (/root/.cache/huggingface/datasets/glue/sst2/1.0.0/dacbe3125aa31d7f70367a07a8a9e72a5a0bfeb5fc42e75c9db75b96da6053ad)\n"
          ]
        },
        {
          "output_type": "display_data",
          "data": {
            "application/vnd.jupyter.widget-view+json": {
              "model_id": "e9a2c767ad844bc486277e0f20f5ef90",
              "version_minor": 0,
              "version_major": 2
            },
            "text/plain": [
              "  0%|          | 0/3 [00:00<?, ?it/s]"
            ]
          },
          "metadata": {}
        },
        {
          "output_type": "stream",
          "name": "stderr",
          "text": [
            "Loading cached processed dataset at /root/.cache/huggingface/datasets/glue/sst2/1.0.0/dacbe3125aa31d7f70367a07a8a9e72a5a0bfeb5fc42e75c9db75b96da6053ad/cache-fb9194ede2dcd9ae.arrow\n",
            "Loading cached processed dataset at /root/.cache/huggingface/datasets/glue/sst2/1.0.0/dacbe3125aa31d7f70367a07a8a9e72a5a0bfeb5fc42e75c9db75b96da6053ad/cache-245c7d58bb14d242.arrow\n",
            "Loading cached processed dataset at /root/.cache/huggingface/datasets/glue/sst2/1.0.0/dacbe3125aa31d7f70367a07a8a9e72a5a0bfeb5fc42e75c9db75b96da6053ad/cache-6b7aeaac9bd25ce0.arrow\n",
            "Loading cached processed dataset at /root/.cache/huggingface/datasets/glue/sst2/1.0.0/dacbe3125aa31d7f70367a07a8a9e72a5a0bfeb5fc42e75c9db75b96da6053ad/cache-55d9f23382165952.arrow\n",
            "Loading cached processed dataset at /root/.cache/huggingface/datasets/glue/sst2/1.0.0/dacbe3125aa31d7f70367a07a8a9e72a5a0bfeb5fc42e75c9db75b96da6053ad/cache-ac4817ec612d4bb7.arrow\n",
            "Loading cached processed dataset at /root/.cache/huggingface/datasets/glue/sst2/1.0.0/dacbe3125aa31d7f70367a07a8a9e72a5a0bfeb5fc42e75c9db75b96da6053ad/cache-281f57b501cbcc75.arrow\n"
          ]
        }
      ]
    },
    {
      "cell_type": "markdown",
      "source": [
        "Here, we will create a PyTorch `Dataloader` for each of the datasets generated in the previous block."
      ],
      "metadata": {
        "id": "aNOXiQjN-QbJ"
      }
    },
    {
      "cell_type": "code",
      "source": [
        "from torch.utils.data import DataLoader\n",
        "data_collator = transformers.data.data_collator.default_data_collator\n",
        "train_dataloader = DataLoader(train_dataset, batch_size=16, shuffle=False, drop_last=False, collate_fn=data_collator)\n",
        "eval_dataloader = DataLoader(eval_dataset,batch_size=16, shuffle=False, drop_last=False, collate_fn=data_collator)"
      ],
      "metadata": {
        "id": "_WRp1JVIApWZ"
      },
      "execution_count": 13,
      "outputs": []
    },
    {
      "cell_type": "markdown",
      "source": [
        "To use the composer `Trainer`, we need to define a `split_batch` function. This function defines how to split the dataloader output into several \"microbatches\". Microbatchs are chunks of the batch that were divided based on the amount of gradient accumulation used."
      ],
      "metadata": {
        "id": "O6XEXJIakP73"
      }
    },
    {
      "cell_type": "code",
      "source": [
        "from composer.core import DataSpec\n",
        "\n",
        "def split_batch_dict(batch, n_microbatches: int):\n",
        "      chunked = {k: v.chunk(n_microbatches) for k, v in batch.items()}\n",
        "      num_chunks = len(list(chunked.values())[0])\n",
        "      return [{k: v[idx] for k, v in chunked.items()} for idx in range(num_chunks)]\n",
        "\n",
        "train_dataspec = DataSpec(dataloader=train_dataloader,\n",
        "                          split_batch=split_batch_dict)\n",
        "eval_dataspec = DataSpec(dataloader=eval_dataloader,\n",
        "                         split_batch=split_batch_dict)\n"
      ],
      "metadata": {
        "id": "pqVuEeEeXChD"
      },
      "execution_count": 14,
      "outputs": []
    },
    {
      "cell_type": "markdown",
      "source": [
        "# Optimizers and Learning Rate Schedulers"
      ],
      "metadata": {
        "id": "KYtPX335c5Vf"
      }
    },
    {
      "cell_type": "markdown",
      "source": [
        "The last setup step is to create an optimizer and a learning rate scheduler. We will use PyTorch's AdamW optimizer and linear learning rate scheduler since these are typically used to fine-tune BERT on tasks such as SST-2."
      ],
      "metadata": {
        "id": "bnhYMAMyaQnU"
      }
    },
    {
      "cell_type": "code",
      "source": [
        "from torch.optim import AdamW\n",
        "from torch.optim.lr_scheduler import LinearLR\n",
        "\n",
        "\n",
        "optimizer = AdamW(params=composer_model.parameters(), lr=3e-5, betas=(0.9, 0.98), eps=1e-6, weight_decay=3e-6)\n",
        "linear_lr_decay = LinearLR(optimizer, start_factor=1.0, end_factor=0, total_iters=150)"
      ],
      "metadata": {
        "id": "iYph4dL2ECAG"
      },
      "execution_count": 42,
      "outputs": []
    },
    {
      "cell_type": "markdown",
      "source": [
        "# Composer Trainer"
      ],
      "metadata": {
        "id": "WGOTL_0lyNqr"
      }
    },
    {
      "cell_type": "markdown",
      "source": [
        "We will now specify a composer `Trainer` object and run our training! `Trainer` has many arguments that are described in our [documentation](https://docs.mosaicml.com/en/v0.3.1/trainer.html#composer.Trainer), but let's discuss the less obvious arguments used below:\n",
        "- `max_duration` - a string specifying how long to train either in terms of batches (e.g. '10ba' is 10 batches) or epochs (e.g. '1ep' is 1 epoch).\n",
        "- `schedulers` - a list of PyTorch learning rate schedulers that will be composed together.\n",
        "- `device` - specifies if the training will be done on CPU or GPU by using 'cpu' or 'gpu', respectively.\n",
        "- `train_subset_num_batches` - specifies the number of training batches to use for each epoch. This is not a necessary argument, but is useful for quickly testing code.\n",
        "- `precision` - whether to do the training in full precision 'fp32' or mixed precision 'amp'. Mixed precision provides almost 2x speedup in training time on certain hardware. If you get a P100, try `precision='amp'`!\n",
        "- `seed` - sets the random seed for the training run, so the results are reproducible!\n",
        "\n"
      ],
      "metadata": {
        "id": "ZNMEqf2RyToY"
      }
    },
    {
      "cell_type": "code",
      "source": [
        "from composer import Trainer\n",
        "\n",
        "# Create Trainer Object\n",
        "trainer = Trainer(model=composer_model, \n",
        "                  train_dataloader=train_dataspec,\n",
        "                  eval_dataloader=eval_dataspec,\n",
        "                  max_duration=\"1ep\",\n",
        "                  optimizers=optimizer,\n",
        "                  schedulers=[linear_lr_decay],\n",
        "                  device='gpu',\n",
        "                  train_subset_num_batches=150,\n",
        "                  precision='fp32',\n",
        "                  seed=17\n",
        "                  )\n",
        "# Start training\n",
        "trainer.fit()"
      ],
      "metadata": {
        "colab": {
          "base_uri": "https://localhost:8080/",
          "height": 243,
          "referenced_widgets": [
            "8de88d9389e9497d86c989ac2bc4f854",
            "1ee32ed6fdb74099876b6c5a30c86f7e",
            "aefbc4e8327843c98b8bfc8e6794e8fe",
            "66b6065cfa594962998fc70867d2e4bc",
            "eb337122f4364c859a109794e8a49c27",
            "3678ed005db44299967d35edae6303ed",
            "5c3ff0f76bab42f9a89e0645cee8f2b9",
            "482b28ccd9ec4c91bd0977b7468b0422",
            "ec7b7ac36faf48498761de8b13618613",
            "fd8d5a88d0bc45c6a9e1555895776434",
            "0fc2b226b98c49e68e118a3724ab81b8",
            "301f5339f13b4d9eabecf3805763129c",
            "4c3f9cd90f3e4fe09b5855a452b13896",
            "52257a74e6714a9db8a43cc0b3cb5e00",
            "8057ef5ab8ca4c2c97620214b9664467",
            "0b5fd8ab54e54f9f910214c1984e7c8d",
            "7d77bdac3de944c3a4a45c271c7234ab",
            "fb3e05d9cd4b428382170dcb517dd1c8",
            "fc4795f5118e4abd82e91efb68019fe0",
            "a9f911f749784d23925ef90020b2184f",
            "39a8f60f0b7a431a9dfde437fdebd20b",
            "c26c201f6f084b14975158fe818c71f6"
          ]
        },
        "id": "AKuR_y5MCNxB",
        "outputId": "b00f8356-09d0-446b-ad0e-a2e34dfd87f1"
      },
      "execution_count": null,
      "outputs": [
        {
          "output_type": "stream",
          "name": "stderr",
          "text": [
            "/usr/local/lib/python3.7/dist-packages/composer/utils/dist.py:43: UserWarning: DistributedDefaultValueWarning: LOCAL_RANK env var not set and Torch distributed not initialized; returning 0 for local rank.\n",
            "  warnings.warn(f\"DistributedDefaultValueWarning: {env_var} env var not set and Torch \"\n",
            "/usr/local/lib/python3.7/dist-packages/composer/utils/dist.py:43: UserWarning: DistributedDefaultValueWarning: RANK env var not set and Torch distributed not initialized; returning 0 for global rank.\n",
            "  warnings.warn(f\"DistributedDefaultValueWarning: {env_var} env var not set and Torch \"\n",
            "/usr/local/lib/python3.7/dist-packages/composer/utils/dist.py:245: UserWarning: NoDistributedWarning: RANK and WORLD_SIZE env vars not set; assuming no parallelization. If this is unexpected, make sure you are running your training script with the composer CLI tool.\n",
            "  warnings.warn(\"NoDistributedWarning: RANK and WORLD_SIZE env vars not set; assuming no \"\n",
            "/usr/local/lib/python3.7/dist-packages/composer/utils/dist.py:43: UserWarning: DistributedDefaultValueWarning: WORLD_SIZE env var not set and Torch distributed not initialized; returning 1 for world size.\n",
            "  warnings.warn(f\"DistributedDefaultValueWarning: {env_var} env var not set and Torch \"\n"
          ]
        },
        {
          "output_type": "display_data",
          "data": {
            "application/vnd.jupyter.widget-view+json": {
              "model_id": "8de88d9389e9497d86c989ac2bc4f854",
              "version_minor": 0,
              "version_major": 2
            },
            "text/plain": [
              "Epoch 0:   0%|          | 0/150 [00:00<?, ?it/s]"
            ]
          },
          "metadata": {}
        },
        {
          "output_type": "display_data",
          "data": {
            "application/vnd.jupyter.widget-view+json": {
              "model_id": "301f5339f13b4d9eabecf3805763129c",
              "version_minor": 0,
              "version_major": 2
            },
            "text/plain": [
              "Epoch 1, Batch 150 (val):   0%|          | 0/55 [00:00<?, ?it/s]"
            ]
          },
          "metadata": {}
        }
      ]
    },
    {
      "cell_type": "markdown",
      "source": [
        "# Visualizing Results"
      ],
      "metadata": {
        "id": "j3irz05T5Jpd"
      }
    },
    {
      "cell_type": "markdown",
      "source": [
        "Our model reaches almost 89% accuracy with only 100 iterations of training! Let's visualize a few samples from the validation set to see how our model performs."
      ],
      "metadata": {
        "id": "H22H3TFD5SWQ"
      }
    },
    {
      "cell_type": "code",
      "source": [
        "import torch\n",
        "eval_batch = next(iter(eval_dataloader))\n",
        "\n",
        "# Move batch to gpu\n",
        "eval_batch = {k: v.cuda() for k, v in eval_batch.items()}\n",
        "with torch.no_grad():\n",
        "  predictions = composer_model(eval_batch)[\"logits\"].argmax(dim=1)\n",
        "\n",
        "# Visualize only 5 samples\n",
        "predictions = predictions[:6]\n",
        "\n",
        "label = ['negative', 'positive']\n",
        "for i, prediction in enumerate(predictions[:6]):\n",
        "  sentence = sst2_dataset[\"validation\"][i][\"sentence\"]\n",
        "  correct_label = label[sst2_dataset[\"validation\"][i][\"label\"]]\n",
        "  prediction_label = label[prediction]\n",
        "  print(f\"Sample: {sentence}\")\n",
        "  print(f\"Label: {correct_label}\")\n",
        "  print(f\"Prediction: {prediction_label}\")\n",
        "  print()\n"
      ],
      "metadata": {
        "colab": {
          "base_uri": "https://localhost:8080/"
        },
        "id": "Lh-VE_Gm7lKH",
        "outputId": "a504108c-11ba-4734-ad6b-13b917d5eb11"
      },
      "execution_count": 39,
      "outputs": [
        {
          "output_type": "stream",
          "name": "stdout",
          "text": [
            "Sample: it 's a charming and often affecting journey . \n",
            "Label: positive\n",
            "Prediction: positive\n",
            "\n",
            "Sample: unflinchingly bleak and desperate \n",
            "Label: negative\n",
            "Prediction: negative\n",
            "\n",
            "Sample: allows us to hope that nolan is poised to embark a major career as a commercial yet inventive filmmaker . \n",
            "Label: positive\n",
            "Prediction: positive\n",
            "\n",
            "Sample: the acting , costumes , music , cinematography and sound are all astounding given the production 's austere locales . \n",
            "Label: positive\n",
            "Prediction: positive\n",
            "\n",
            "Sample: it 's slow -- very , very slow . \n",
            "Label: negative\n",
            "Prediction: negative\n",
            "\n",
            "Sample: although laced with humor and a few fanciful touches , the film is a refreshingly serious look at young women . \n",
            "Label: positive\n",
            "Prediction: positive\n",
            "\n"
          ]
        }
      ]
    },
    {
      "cell_type": "markdown",
      "source": [
        "# Conclusion"
      ],
      "metadata": {
        "id": "dvjDXCeqLvc1"
      }
    },
    {
      "cell_type": "markdown",
      "source": [
        "This tutorial showed how to use the composer `Trainer` to fine-tune a pre-trained BERT on a subset of the SST-2 dataset. We focused on the composer's basic functionality, but there are many more tools such as easy to use gradient accumulation and multi-GPU training! Check out many other features at our [documentation](https://docs.mosaicml.com/en/latest)."
      ],
      "metadata": {
        "id": "OpeCzTxOLxwx"
      }
    }
  ]
}